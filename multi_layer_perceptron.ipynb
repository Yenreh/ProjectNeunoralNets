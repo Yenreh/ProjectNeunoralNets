{
 "cells": [
  {
   "cell_type": "markdown",
   "id": "493885d5",
   "metadata": {},
   "source": [
    "# Proyecto Redes Neuronales: Perceptrón Multicapa\n",
    "\n",
    "**Curso:** Redes Neuronales 2025-II  \n",
    "**Objetivo:** Entrenar y evaluar un modelo de Perceptrón Multicapa (MLP) para clasificación de texto según el enunciado del proyecto.  \n",
    "**Autor:** Herney Eduardo Quintero Trochez  \n",
    "**Fecha:** 2025  \n",
    "**Universidad:** Universidad Del Valle  \n",
    "\n",
    "## Componentes implementados:\n",
    "1. Configuración de Parámetros Globales\n",
    "2. Carga y Preprocesamiento de Datos\n",
    "3. Tokenización y Creación del Vocabulario\n",
    "4. Construcción del Modelo MLP\n",
    "5. Entrenamiento con Early Stopping\n",
    "6. Evaluación del Modelo\n",
    "7. Guardado de Resultados y Modelos\n",
    "8. Visualización de Resultados\n",
    "9. Historial de Experimentos"
   ]
  },
  {
   "cell_type": "markdown",
   "id": "53f37abf",
   "metadata": {},
   "source": [
    "## 0. Configuración de Parámetros Globales\n",
    "\n",
    "Esta sección permite modificar fácilmente todos los parámetros del modelo para experimentar."
   ]
  },
  {
   "cell_type": "code",
   "execution_count": 1,
   "id": "3b42a10a",
   "metadata": {},
   "outputs": [
    {
     "name": "stdout",
     "output_type": "stream",
     "text": [
      "=== Configuración del Experimento: MLP_BoW ===\n",
      "Modelo: MLP_BoW\n",
      "Filtro de idioma: en\n",
      "Usar título + cuerpo: True\n",
      "Máximo de características: 5000\n",
      "Arquitectura oculta: [256, 128, 64]\n",
      "Min DF: 3, Max DF: 0.85\n",
      "Dropout: 0.3\n",
      "Épocas máximas: 50\n",
      "Batch size: 512\n",
      "Tasa de aprendizaje: 0.001\n",
      "============================================================\n"
     ]
    }
   ],
   "source": [
    "# ===== CONFIGURACIÓN DE PARÁMETROS GLOBALES =====\n",
    "# Esta sección centraliza todos los parámetros del modelo para facilitar experimentación\n",
    "\n",
    "# Configuración general del experimento\n",
    "EXPERIMENT_NAME = \"MLP_BoW\"\n",
    "MODEL_TYPE = \"MLP_BoW\"  # Perceptrón Multi-Capa con BoW/TF-IDF\n",
    "RANDOM_SEED = 42\n",
    "\n",
    "# Directorios de trabajo\n",
    "DATA_DIR = \"data\"\n",
    "MODEL_DIR = \"models\"\n",
    "OUTPUT_DIR = \"output\"\n",
    "\n",
    "# Configuración del dataset \n",
    "TEXT_COLUMN = \"review_body\"  # Columna con el texto del cuerpo de la reseña\n",
    "TITLE_COLUMN = \"review_title\"  # Columna con el título de la reseña\n",
    "TARGET_COLUMN = \"stars\"  # Columna con las etiquetas (1-5 estrellas)\n",
    "LANGUAGE_COLUMN = \"language\"  # Columna con el idioma\n",
    "FILTER_LANGUAGE = \"en\"  # Filtrar por idioma específico. Opciones: None, \"en\", \"es\", \"de\", \"fr\", \"ja\"\n",
    "USE_TITLE_AND_BODY = True  # Usar tanto título como cuerpo para mejor precisión\n",
    "\n",
    "# Parámetros de preprocesamiento de texto BoW/TF-IDF\n",
    "MAX_FEATURES = 5000  # Número máximo de características en el vocabulario\n",
    "MIN_DF = 3  # Frecuencia mínima de documento para incluir término\n",
    "MAX_DF = 0.85  # Frecuencia máxima de documento (ratio) para filtrar términos comunes\n",
    "\n",
    "# Parámetros de arquitectura del modelo - MLP sin Embeddings\n",
    "HIDDEN_LAYERS = [256, 128, 64]  # Lista con el número de neuronas en cada capa oculta\n",
    "ACTIVATION = \"relu\"  # Función de activación para capas ocultas\n",
    "OUTPUT_ACTIVATION = \"softmax\"  # Función de activación para la capa de salida\n",
    "DROPOUT_RATE = 0.3  # Tasa de dropout para regularización\n",
    "\n",
    "# Parámetros de entrenamiento\n",
    "EPOCHS = 50  # Número máximo de épocas de entrenamiento\n",
    "BATCH_SIZE = 512  # Tamaño del batch\n",
    "LEARNING_RATE = 0.001  # Tasa de aprendizaje\n",
    "PATIENCE = 10  # Paciencia para early stopping\n",
    "OPTIMIZER = \"adam\"  # Optimizador a usar\n",
    "LOSS_FUNCTION = \"categorical_crossentropy\"  # Función de pérdida\n",
    "METRICS = [\"accuracy\"]  # Métricas a monitorear\n",
    "\n",
    "print(f\"=== Configuración del Experimento: {EXPERIMENT_NAME} ===\")\n",
    "print(f\"Modelo: {MODEL_TYPE}\")\n",
    "print(f\"Filtro de idioma: {FILTER_LANGUAGE if FILTER_LANGUAGE else 'Multiidioma'}\")\n",
    "print(f\"Usar título + cuerpo: {USE_TITLE_AND_BODY}\")\n",
    "print(f\"Máximo de características: {MAX_FEATURES}\")\n",
    "print(f\"Arquitectura oculta: {HIDDEN_LAYERS}\")\n",
    "print(f\"Min DF: {MIN_DF}, Max DF: {MAX_DF}\")\n",
    "print(f\"Dropout: {DROPOUT_RATE}\")\n",
    "print(f\"Épocas máximas: {EPOCHS}\")\n",
    "print(f\"Batch size: {BATCH_SIZE}\")\n",
    "print(f\"Tasa de aprendizaje: {LEARNING_RATE}\")\n",
    "print(\"=\"*60)"
   ]
  },
  {
   "cell_type": "markdown",
   "id": "2d6ffb44",
   "metadata": {},
   "source": [
    "## 1. Importación de Librerías y Funciones Helper"
   ]
  },
  {
   "cell_type": "code",
   "execution_count": 2,
   "id": "54f08898",
   "metadata": {},
   "outputs": [
    {
     "name": "stderr",
     "output_type": "stream",
     "text": [
      "2025-09-29 00:55:09.716016: I tensorflow/core/util/port.cc:153] oneDNN custom operations are on. You may see slightly different numerical results due to floating-point round-off errors from different computation orders. To turn them off, set the environment variable `TF_ENABLE_ONEDNN_OPTS=0`.\n",
      "2025-09-29 00:55:09.754391: I tensorflow/core/platform/cpu_feature_guard.cc:210] This TensorFlow binary is optimized to use available CPU instructions in performance-critical operations.\n",
      "To enable the following instructions: AVX2 AVX_VNNI FMA, in other operations, rebuild TensorFlow with the appropriate compiler flags.\n",
      "2025-09-29 00:55:10.667739: I tensorflow/core/util/port.cc:153] oneDNN custom operations are on. You may see slightly different numerical results due to floating-point round-off errors from different computation orders. To turn them off, set the environment variable `TF_ENABLE_ONEDNN_OPTS=0`.\n"
     ]
    },
    {
     "name": "stdout",
     "output_type": "stream",
     "text": [
      "GPU configurada: 1 GPU(s) disponibles\n",
      "Ambiente configurado. GPU disponible: True\n"
     ]
    }
   ],
   "source": [
    "# ===== IMPORTAR LIBRERÍAS =====\n",
    "import os\n",
    "import numpy as np\n",
    "from datetime import datetime\n",
    "import tensorflow as tf\n",
    "from tensorflow.keras.models import Sequential\n",
    "from tensorflow.keras.layers import Dense\n",
    "from tensorflow.keras.layers import Dropout\n",
    "from tensorflow.keras.optimizers import Adam\n",
    "\n",
    "# Importar funciones helper\n",
    "from helper import (\n",
    "    DataLoader, ModelTrainer, ResultsManager, Visualizer,\n",
    "    evaluate_model, setup_experiment_environment\n",
    ")\n",
    "\n",
    "# Configurar ambiente del experimento\n",
    "gpu_info = setup_experiment_environment(RANDOM_SEED)\n",
    "print(f\"Ambiente configurado. GPU disponible: {gpu_info['gpu_available']}\")"
   ]
  },
  {
   "cell_type": "markdown",
   "id": "1cbf34a3",
   "metadata": {},
   "source": [
    "## 2. Carga y Preprocesamiento de Datos"
   ]
  },
  {
   "cell_type": "code",
   "execution_count": 3,
   "id": "d7e63e62",
   "metadata": {},
   "outputs": [
    {
     "name": "stdout",
     "output_type": "stream",
     "text": [
      "Cargando datasets...\n",
      "Datos cargados exitosamente: train.csv\n",
      "Datos cargados exitosamente: validation.csv\n",
      "Datos cargados exitosamente: test.csv\n",
      "\n",
      "Datos originales cargados:\n",
      "Entrenamiento: 1200000 muestras\n",
      "Validación: 30000 muestras\n",
      "Prueba: 30000 muestras\n",
      "Todas las columnas requeridas están disponibles\n",
      "Modo combinado: review_title + review_body\n",
      "\n",
      "Análisis de idiomas en el dataset:\n",
      "Distribución de idiomas (entrenamiento):\n",
      "  de: 200,000 muestras (16.7%)\n",
      "  en: 200,000 muestras (16.7%)\n",
      "  es: 200,000 muestras (16.7%)\n",
      "  fr: 200,000 muestras (16.7%)\n",
      "  ja: 200,000 muestras (16.7%)\n",
      "  zh: 200,000 muestras (16.7%)\n",
      "\n",
      "Filtrando por idioma: en\n",
      "\n",
      "Datos después del filtrado por idioma 'en':\n",
      "Entrenamiento: 200000 muestras\n",
      "Validación: 5000 muestras\n",
      "Prueba: 5000 muestras\n",
      "\n",
      "Distribución de clases (conjunto final):\n",
      "  1 estrella(s): 40,000 muestras (20.0%)\n",
      "  2 estrella(s): 40,000 muestras (20.0%)\n",
      "  3 estrella(s): 40,000 muestras (20.0%)\n",
      "  4 estrella(s): 40,000 muestras (20.0%)\n",
      "  5 estrella(s): 40,000 muestras (20.0%)\n",
      "\n",
      "Ejemplos de datos del conjunto final:\n",
      "1. [en] 1 estrella(s)\n",
      "   Título: I'll spend twice the amount of time boxing up the whole usel...\n",
      "   Cuerpo: Arrived broken. Manufacturer defect. Two of the legs of the base were not comple...\n",
      "\n",
      "2. [en] 1 estrella(s)\n",
      "   Título: Not use able\n",
      "   Cuerpo: the cabinet dot were all detached from backing... got me\n",
      "\n",
      "3. [en] 1 estrella(s)\n",
      "   Título: The product is junk.\n",
      "   Cuerpo: I received my first order of this product and it was broke so I ordered it again...\n",
      "\n"
     ]
    }
   ],
   "source": [
    "# Inicializar el cargador de datos\n",
    "data_loader = DataLoader(data_dir=DATA_DIR)\n",
    "\n",
    "# Cargar los datasets\n",
    "print(\"Cargando datasets...\")\n",
    "train_df, val_df, test_df = data_loader.load_all_data()\n",
    "\n",
    "print(f\"\\nDatos originales cargados:\")\n",
    "print(f\"Entrenamiento: {len(train_df)} muestras\")\n",
    "print(f\"Validación: {len(val_df)} muestras\") \n",
    "print(f\"Prueba: {len(test_df)} muestras\")\n",
    "\n",
    "# Verificar que las columnas necesarias existen\n",
    "required_columns = [TEXT_COLUMN, TARGET_COLUMN, LANGUAGE_COLUMN]\n",
    "if USE_TITLE_AND_BODY:\n",
    "    required_columns.append(TITLE_COLUMN)\n",
    "\n",
    "missing_columns = [col for col in required_columns if col not in train_df.columns]\n",
    "if missing_columns:\n",
    "    print(f\"Columnas faltantes: {missing_columns}\")\n",
    "    print(f\"Columnas disponibles: {list(train_df.columns)}\")\n",
    "else:\n",
    "    print(f\"Todas las columnas requeridas están disponibles\")\n",
    "    if USE_TITLE_AND_BODY:\n",
    "        print(f\"Modo combinado: {TITLE_COLUMN} + {TEXT_COLUMN}\")\n",
    "\n",
    "# Analizar distribución de idiomas\n",
    "print(f\"\\nAnálisis de idiomas en el dataset:\")\n",
    "if LANGUAGE_COLUMN in train_df.columns:\n",
    "    lang_dist_train = train_df[LANGUAGE_COLUMN].value_counts()\n",
    "    print(f\"Distribución de idiomas (entrenamiento):\")\n",
    "    for lang, count in lang_dist_train.items():\n",
    "        percentage = (count / len(train_df)) * 100\n",
    "        print(f\"  {lang}: {count:,} muestras ({percentage:.1f}%)\")\n",
    "    \n",
    "    # Aplicar filtro por idioma si está especificado\n",
    "    if FILTER_LANGUAGE is not None:\n",
    "        if FILTER_LANGUAGE in lang_dist_train.index:\n",
    "            print(f\"\\nFiltrando por idioma: {FILTER_LANGUAGE}\")\n",
    "            \n",
    "            # Filtrar datasets por idioma\n",
    "            train_df = train_df[train_df[LANGUAGE_COLUMN] == FILTER_LANGUAGE].copy()\n",
    "            val_df = val_df[val_df[LANGUAGE_COLUMN] == FILTER_LANGUAGE].copy()\n",
    "            test_df = test_df[test_df[LANGUAGE_COLUMN] == FILTER_LANGUAGE].copy()\n",
    "            \n",
    "            print(f\"\\nDatos después del filtrado por idioma '{FILTER_LANGUAGE}':\")\n",
    "            print(f\"Entrenamiento: {len(train_df)} muestras\")\n",
    "            print(f\"Validación: {len(val_df)} muestras\")\n",
    "            print(f\"Prueba: {len(test_df)} muestras\")\n",
    "        else:\n",
    "            print(f\"\\nAdvertencia: Idioma '{FILTER_LANGUAGE}' no encontrado en el dataset.\")\n",
    "            print(f\"Idiomas disponibles: {list(lang_dist_train.index)}\")\n",
    "            print(\"Usando todos los idiomas...\")\n",
    "    else:\n",
    "        print(f\"\\nUsando todos los idiomas disponibles\")\n",
    "else:\n",
    "    print(f\"Columna '{LANGUAGE_COLUMN}' no encontrada. Usando todos los datos sin filtrar.\")\n",
    "\n",
    "# Mostrar distribución de clases en el conjunto final\n",
    "print(f\"\\nDistribución de clases (conjunto final):\")\n",
    "class_distribution = train_df[TARGET_COLUMN].value_counts().sort_index()\n",
    "for stars, count in class_distribution.items():\n",
    "    percentage = (count / len(train_df)) * 100\n",
    "    print(f\"  {stars} estrella(s): {count:,} muestras ({percentage:.1f}%)\")\n",
    "\n",
    "# Mostrar ejemplos de datos con título y cuerpo\n",
    "print(f\"\\nEjemplos de datos del conjunto final:\")\n",
    "for i in range(min(3, len(train_df))):\n",
    "    lang = train_df[LANGUAGE_COLUMN].iloc[i] if LANGUAGE_COLUMN in train_df.columns else \"N/A\"\n",
    "    title = train_df[TITLE_COLUMN].iloc[i] if USE_TITLE_AND_BODY and TITLE_COLUMN in train_df.columns else \"N/A\"\n",
    "    text = train_df[TEXT_COLUMN].iloc[i][:80]  # Menos texto para mostrar título también\n",
    "    stars = train_df[TARGET_COLUMN].iloc[i]\n",
    "    \n",
    "    print(f\"{i+1}. [{lang}] {stars} estrella(s)\")\n",
    "    if USE_TITLE_AND_BODY and title != \"N/A\":\n",
    "        print(f\"   Título: {title[:60]}{'...' if len(str(title)) > 60 else ''}\")\n",
    "    print(f\"   Cuerpo: {text}{'...' if len(str(train_df[TEXT_COLUMN].iloc[i])) > 80 else ''}\")\n",
    "    print()"
   ]
  },
  {
   "cell_type": "markdown",
   "id": "26214504",
   "metadata": {},
   "source": [
    "## 3. Preprocesamiento de Texto"
   ]
  },
  {
   "cell_type": "code",
   "execution_count": 4,
   "id": "ec025b32",
   "metadata": {},
   "outputs": [
    {
     "name": "stdout",
     "output_type": "stream",
     "text": [
      "Preprocesando datos de texto...\n",
      "Modo: Título + Cuerpo\n",
      "Método: BoW/TF-IDF\n",
      "Preprocesando datos de texto con BoW...\n",
      "Configuración: max_features=5000, min_df=3, max_df=0.85\n",
      "Combinando review_title + review_body\n",
      "Combinando review_title + review_body\n",
      "Combinando review_title + review_body\n",
      "Ajustando vocabulario en datos de entrenamiento...\n",
      "Vocabulario final: 5000 características\n",
      "Número de clases: 5\n",
      "Sparsity de entrenamiento: 99.70%\n",
      "Texto combinado: Sí (título + cuerpo)\n",
      "Muestras de entrenamiento: 200000\n",
      "Muestras de validación: 5000\n",
      "Muestras de prueba: 5000\n",
      "\n",
      " Optimización para TensorFlow: Convirtiendo matrices dispersas a densas...\n",
      "\n",
      "Datos preprocesados con BoW/TF-IDF:\n",
      "Vocabulario (características): 5000\n",
      "Número de clases: 5\n",
      "Forma de X_train: (200000, 5000)\n",
      "Forma de y_train: (200000, 5)\n",
      "Sparsity: 99.7% (matriz dispersa)\n",
      "Texto combinado: Sí (título + cuerpo)\n"
     ]
    }
   ],
   "source": [
    "# Preprocesar los datos de texto\n",
    "print(\"Preprocesando datos de texto...\")\n",
    "print(f\"Modo: {'Título + Cuerpo' if USE_TITLE_AND_BODY else 'Solo Cuerpo'}\")\n",
    "print(f\"Método: BoW/TF-IDF\")\n",
    "\n",
    "processed_data = data_loader.preprocess_text_data_bow(\n",
    "    train_df=train_df,\n",
    "    val_df=val_df, \n",
    "    test_df=test_df,\n",
    "    text_column=TEXT_COLUMN,\n",
    "    title_column=TITLE_COLUMN if USE_TITLE_AND_BODY else None,\n",
    "    target_column=TARGET_COLUMN,\n",
    "    max_features=MAX_FEATURES,\n",
    "    min_df=MIN_DF,\n",
    "    max_df=MAX_DF,\n",
    "    use_title_and_body=USE_TITLE_AND_BODY\n",
    ")\n",
    "\n",
    "# Extraer datos preprocesados\n",
    "X_train, y_train = processed_data['X_train'], processed_data['y_train']\n",
    "X_val, y_val = processed_data['X_val'], processed_data['y_val']\n",
    "X_test, y_test = processed_data['X_test'], processed_data['y_test']\n",
    "num_classes = processed_data['num_classes']\n",
    "vocab_size = processed_data['vocab_size']\n",
    "sparsity = processed_data['sparsity']\n",
    "\n",
    "print(f\"\\nDatos preprocesados con BoW/TF-IDF:\")\n",
    "print(f\"Vocabulario (características): {vocab_size}\")\n",
    "print(f\"Número de clases: {num_classes}\")\n",
    "print(f\"Forma de X_train: {X_train.shape}\")\n",
    "print(f\"Forma de y_train: {y_train.shape}\")\n",
    "print(f\"Sparsity: {sparsity:.1%} (matriz dispersa)\")\n",
    "print(f\"Texto combinado: {'Sí (título + cuerpo)' if USE_TITLE_AND_BODY else 'No (solo cuerpo)'}\")\n",
    "\n",
    "# Obtener nombres de clases para evaluación\n",
    "class_names = [str(i) for i in data_loader.label_encoder.classes_]"
   ]
  },
  {
   "cell_type": "markdown",
   "id": "50a4f8d1",
   "metadata": {},
   "source": [
    "## 4. Construcción del Modelo MLP"
   ]
  },
  {
   "cell_type": "code",
   "execution_count": 5,
   "id": "f4cf91a0",
   "metadata": {},
   "outputs": [
    {
     "name": "stdout",
     "output_type": "stream",
     "text": [
      "Creando modelo MLP...\n",
      "Dimensión de entrada: 5000 características\n"
     ]
    },
    {
     "name": "stderr",
     "output_type": "stream",
     "text": [
      "/home/yenreh/anaconda3/envs/py310ia/lib/python3.10/site-packages/keras/src/layers/core/dense.py:92: UserWarning: Do not pass an `input_shape`/`input_dim` argument to a layer. When using Sequential models, prefer using an `Input(shape)` object as the first layer in the model instead.\n",
      "  super().__init__(activity_regularizer=activity_regularizer, **kwargs)\n",
      "WARNING: All log messages before absl::InitializeLog() is called are written to STDERR\n",
      "I0000 00:00:1759125327.264501  159365 gpu_device.cc:2020] Created device /job:localhost/replica:0/task:0/device:GPU:0 with 9380 MB memory:  -> device: 0, name: NVIDIA GeForce RTX 3060, pci bus id: 0000:01:00.0, compute capability: 8.6\n"
     ]
    },
    {
     "name": "stdout",
     "output_type": "stream",
     "text": [
      "\n",
      "Arquitectura del modelo MLP:\n"
     ]
    },
    {
     "data": {
      "text/html": [
       "<pre style=\"white-space:pre;overflow-x:auto;line-height:normal;font-family:Menlo,'DejaVu Sans Mono',consolas,'Courier New',monospace\"><span style=\"font-weight: bold\">Model: \"sequential\"</span>\n",
       "</pre>\n"
      ],
      "text/plain": [
       "\u001b[1mModel: \"sequential\"\u001b[0m\n"
      ]
     },
     "metadata": {},
     "output_type": "display_data"
    },
    {
     "data": {
      "text/html": [
       "<pre style=\"white-space:pre;overflow-x:auto;line-height:normal;font-family:Menlo,'DejaVu Sans Mono',consolas,'Courier New',monospace\">┏━━━━━━━━━━━━━━━━━━━━━━━━━━━━━━━━━┳━━━━━━━━━━━━━━━━━━━━━━━━┳━━━━━━━━━━━━━━━┓\n",
       "┃<span style=\"font-weight: bold\"> Layer (type)                    </span>┃<span style=\"font-weight: bold\"> Output Shape           </span>┃<span style=\"font-weight: bold\">       Param # </span>┃\n",
       "┡━━━━━━━━━━━━━━━━━━━━━━━━━━━━━━━━━╇━━━━━━━━━━━━━━━━━━━━━━━━╇━━━━━━━━━━━━━━━┩\n",
       "│ input_dense_layer (<span style=\"color: #0087ff; text-decoration-color: #0087ff\">Dense</span>)       │ (<span style=\"color: #00d7ff; text-decoration-color: #00d7ff\">None</span>, <span style=\"color: #00af00; text-decoration-color: #00af00\">256</span>)            │     <span style=\"color: #00af00; text-decoration-color: #00af00\">1,280,256</span> │\n",
       "├─────────────────────────────────┼────────────────────────┼───────────────┤\n",
       "│ input_dropout (<span style=\"color: #0087ff; text-decoration-color: #0087ff\">Dropout</span>)         │ (<span style=\"color: #00d7ff; text-decoration-color: #00d7ff\">None</span>, <span style=\"color: #00af00; text-decoration-color: #00af00\">256</span>)            │             <span style=\"color: #00af00; text-decoration-color: #00af00\">0</span> │\n",
       "├─────────────────────────────────┼────────────────────────┼───────────────┤\n",
       "│ dense_layer_2 (<span style=\"color: #0087ff; text-decoration-color: #0087ff\">Dense</span>)           │ (<span style=\"color: #00d7ff; text-decoration-color: #00d7ff\">None</span>, <span style=\"color: #00af00; text-decoration-color: #00af00\">128</span>)            │        <span style=\"color: #00af00; text-decoration-color: #00af00\">32,896</span> │\n",
       "├─────────────────────────────────┼────────────────────────┼───────────────┤\n",
       "│ dropout_2 (<span style=\"color: #0087ff; text-decoration-color: #0087ff\">Dropout</span>)             │ (<span style=\"color: #00d7ff; text-decoration-color: #00d7ff\">None</span>, <span style=\"color: #00af00; text-decoration-color: #00af00\">128</span>)            │             <span style=\"color: #00af00; text-decoration-color: #00af00\">0</span> │\n",
       "├─────────────────────────────────┼────────────────────────┼───────────────┤\n",
       "│ dense_layer_3 (<span style=\"color: #0087ff; text-decoration-color: #0087ff\">Dense</span>)           │ (<span style=\"color: #00d7ff; text-decoration-color: #00d7ff\">None</span>, <span style=\"color: #00af00; text-decoration-color: #00af00\">64</span>)             │         <span style=\"color: #00af00; text-decoration-color: #00af00\">8,256</span> │\n",
       "├─────────────────────────────────┼────────────────────────┼───────────────┤\n",
       "│ dropout_3 (<span style=\"color: #0087ff; text-decoration-color: #0087ff\">Dropout</span>)             │ (<span style=\"color: #00d7ff; text-decoration-color: #00d7ff\">None</span>, <span style=\"color: #00af00; text-decoration-color: #00af00\">64</span>)             │             <span style=\"color: #00af00; text-decoration-color: #00af00\">0</span> │\n",
       "├─────────────────────────────────┼────────────────────────┼───────────────┤\n",
       "│ output_layer (<span style=\"color: #0087ff; text-decoration-color: #0087ff\">Dense</span>)            │ (<span style=\"color: #00d7ff; text-decoration-color: #00d7ff\">None</span>, <span style=\"color: #00af00; text-decoration-color: #00af00\">5</span>)              │           <span style=\"color: #00af00; text-decoration-color: #00af00\">325</span> │\n",
       "└─────────────────────────────────┴────────────────────────┴───────────────┘\n",
       "</pre>\n"
      ],
      "text/plain": [
       "┏━━━━━━━━━━━━━━━━━━━━━━━━━━━━━━━━━┳━━━━━━━━━━━━━━━━━━━━━━━━┳━━━━━━━━━━━━━━━┓\n",
       "┃\u001b[1m \u001b[0m\u001b[1mLayer (type)                   \u001b[0m\u001b[1m \u001b[0m┃\u001b[1m \u001b[0m\u001b[1mOutput Shape          \u001b[0m\u001b[1m \u001b[0m┃\u001b[1m \u001b[0m\u001b[1m      Param #\u001b[0m\u001b[1m \u001b[0m┃\n",
       "┡━━━━━━━━━━━━━━━━━━━━━━━━━━━━━━━━━╇━━━━━━━━━━━━━━━━━━━━━━━━╇━━━━━━━━━━━━━━━┩\n",
       "│ input_dense_layer (\u001b[38;5;33mDense\u001b[0m)       │ (\u001b[38;5;45mNone\u001b[0m, \u001b[38;5;34m256\u001b[0m)            │     \u001b[38;5;34m1,280,256\u001b[0m │\n",
       "├─────────────────────────────────┼────────────────────────┼───────────────┤\n",
       "│ input_dropout (\u001b[38;5;33mDropout\u001b[0m)         │ (\u001b[38;5;45mNone\u001b[0m, \u001b[38;5;34m256\u001b[0m)            │             \u001b[38;5;34m0\u001b[0m │\n",
       "├─────────────────────────────────┼────────────────────────┼───────────────┤\n",
       "│ dense_layer_2 (\u001b[38;5;33mDense\u001b[0m)           │ (\u001b[38;5;45mNone\u001b[0m, \u001b[38;5;34m128\u001b[0m)            │        \u001b[38;5;34m32,896\u001b[0m │\n",
       "├─────────────────────────────────┼────────────────────────┼───────────────┤\n",
       "│ dropout_2 (\u001b[38;5;33mDropout\u001b[0m)             │ (\u001b[38;5;45mNone\u001b[0m, \u001b[38;5;34m128\u001b[0m)            │             \u001b[38;5;34m0\u001b[0m │\n",
       "├─────────────────────────────────┼────────────────────────┼───────────────┤\n",
       "│ dense_layer_3 (\u001b[38;5;33mDense\u001b[0m)           │ (\u001b[38;5;45mNone\u001b[0m, \u001b[38;5;34m64\u001b[0m)             │         \u001b[38;5;34m8,256\u001b[0m │\n",
       "├─────────────────────────────────┼────────────────────────┼───────────────┤\n",
       "│ dropout_3 (\u001b[38;5;33mDropout\u001b[0m)             │ (\u001b[38;5;45mNone\u001b[0m, \u001b[38;5;34m64\u001b[0m)             │             \u001b[38;5;34m0\u001b[0m │\n",
       "├─────────────────────────────────┼────────────────────────┼───────────────┤\n",
       "│ output_layer (\u001b[38;5;33mDense\u001b[0m)            │ (\u001b[38;5;45mNone\u001b[0m, \u001b[38;5;34m5\u001b[0m)              │           \u001b[38;5;34m325\u001b[0m │\n",
       "└─────────────────────────────────┴────────────────────────┴───────────────┘\n"
      ]
     },
     "metadata": {},
     "output_type": "display_data"
    },
    {
     "data": {
      "text/html": [
       "<pre style=\"white-space:pre;overflow-x:auto;line-height:normal;font-family:Menlo,'DejaVu Sans Mono',consolas,'Courier New',monospace\"><span style=\"font-weight: bold\"> Total params: </span><span style=\"color: #00af00; text-decoration-color: #00af00\">1,321,733</span> (5.04 MB)\n",
       "</pre>\n"
      ],
      "text/plain": [
       "\u001b[1m Total params: \u001b[0m\u001b[38;5;34m1,321,733\u001b[0m (5.04 MB)\n"
      ]
     },
     "metadata": {},
     "output_type": "display_data"
    },
    {
     "data": {
      "text/html": [
       "<pre style=\"white-space:pre;overflow-x:auto;line-height:normal;font-family:Menlo,'DejaVu Sans Mono',consolas,'Courier New',monospace\"><span style=\"font-weight: bold\"> Trainable params: </span><span style=\"color: #00af00; text-decoration-color: #00af00\">1,321,733</span> (5.04 MB)\n",
       "</pre>\n"
      ],
      "text/plain": [
       "\u001b[1m Trainable params: \u001b[0m\u001b[38;5;34m1,321,733\u001b[0m (5.04 MB)\n"
      ]
     },
     "metadata": {},
     "output_type": "display_data"
    },
    {
     "data": {
      "text/html": [
       "<pre style=\"white-space:pre;overflow-x:auto;line-height:normal;font-family:Menlo,'DejaVu Sans Mono',consolas,'Courier New',monospace\"><span style=\"font-weight: bold\"> Non-trainable params: </span><span style=\"color: #00af00; text-decoration-color: #00af00\">0</span> (0.00 B)\n",
       "</pre>\n"
      ],
      "text/plain": [
       "\u001b[1m Non-trainable params: \u001b[0m\u001b[38;5;34m0\u001b[0m (0.00 B)\n"
      ]
     },
     "metadata": {},
     "output_type": "display_data"
    },
    {
     "name": "stdout",
     "output_type": "stream",
     "text": [
      "\n",
      "Total de parámetros: 1,321,733\n",
      "Entrada: 5000 características BoW/TF-IDF\n",
      "Arquitectura: [256, 128, 64]\n",
      "Salida: 5 clases\n"
     ]
    }
   ],
   "source": [
    "def create_mlp_model(input_dim, hidden_layers, num_classes, dropout_rate, \n",
    "                    activation, output_activation):\n",
    "    \"\"\"\n",
    "    Crear un modelo de Perceptrón Multicapa para clasificación de texto.\n",
    "    \n",
    "    Args:\n",
    "        input_dim: Dimensión de entrada (número de características del vocabulario)\n",
    "        hidden_layers: Lista con el número de neuronas en cada capa oculta\n",
    "        num_classes: Número de clases de salida\n",
    "        dropout_rate: Tasa de dropout\n",
    "        activation: Función de activación para capas ocultas\n",
    "        output_activation: Función de activación para la capa de salida\n",
    "    \n",
    "    Returns:\n",
    "        tf.keras.Model: Modelo compilado\n",
    "    \"\"\"\n",
    "    model = Sequential()\n",
    "    \n",
    "    # Capa de entrada - conecta directamente con las características BoW/TF-IDF\n",
    "    model.add(Dense(units=hidden_layers[0], \n",
    "                   activation=activation,\n",
    "                   input_dim=input_dim,\n",
    "                   name=\"input_dense_layer\"))\n",
    "    model.add(Dropout(rate=dropout_rate, name=\"input_dropout\"))\n",
    "    \n",
    "    # Capas ocultas del MLP\n",
    "    for i, units in enumerate(hidden_layers[1:], 1):\n",
    "        model.add(Dense(units=units, \n",
    "                       activation=activation, \n",
    "                       name=f\"dense_layer_{i+1}\"))\n",
    "        model.add(Dropout(rate=dropout_rate, \n",
    "                         name=f\"dropout_{i+1}\"))\n",
    "    \n",
    "    # Capa de salida\n",
    "    model.add(Dense(units=num_classes, \n",
    "                   activation=output_activation, \n",
    "                   name=\"output_layer\"))\n",
    "    \n",
    "    return model\n",
    "\n",
    "# Crear el modelo\n",
    "print(\"Creando modelo MLP...\")\n",
    "print(f\"Dimensión de entrada: {vocab_size} características\")\n",
    "\n",
    "model = create_mlp_model(\n",
    "    input_dim=vocab_size,\n",
    "    hidden_layers=HIDDEN_LAYERS,\n",
    "    num_classes=num_classes,\n",
    "    dropout_rate=DROPOUT_RATE,\n",
    "    activation=ACTIVATION,\n",
    "    output_activation=OUTPUT_ACTIVATION\n",
    ")\n",
    "\n",
    "# Compilar el modelo\n",
    "optimizer = Adam(learning_rate=LEARNING_RATE)\n",
    "model.compile(\n",
    "    optimizer=optimizer,\n",
    "    loss=LOSS_FUNCTION,\n",
    "    metrics=METRICS\n",
    ")\n",
    "\n",
    "# Mostrar arquitectura del modelo\n",
    "print(\"\\nArquitectura del modelo MLP:\")\n",
    "model.summary()\n",
    "\n",
    "# Contar parámetros\n",
    "total_params = model.count_params()\n",
    "print(f\"\\nTotal de parámetros: {total_params:,}\")\n",
    "print(f\"Entrada: {vocab_size} características BoW/TF-IDF\")\n",
    "print(f\"Arquitectura: {HIDDEN_LAYERS}\")\n",
    "print(f\"Salida: {num_classes} clases\")"
   ]
  },
  {
   "cell_type": "markdown",
   "id": "1e33caa8",
   "metadata": {},
   "source": [
    "## 5. Entrenamiento del Modelo"
   ]
  },
  {
   "cell_type": "code",
   "execution_count": 6,
   "id": "071b8782",
   "metadata": {},
   "outputs": [
    {
     "name": "stdout",
     "output_type": "stream",
     "text": [
      "Iniciando entrenamiento...\n",
      "Entrenando MLP_BoW_20250929_005527...\n",
      "Parámetros del modelo: 1,321,733\n",
      "Forma de entrada: (200000, 5000)\n",
      "Tipo de datos: float32\n",
      "Epoch 1/50\n"
     ]
    },
    {
     "name": "stderr",
     "output_type": "stream",
     "text": [
      "2025-09-29 00:55:30.917800: I external/local_xla/xla/service/service.cc:163] XLA service 0x7f5e8c003da0 initialized for platform CUDA (this does not guarantee that XLA will be used). Devices:\n",
      "2025-09-29 00:55:30.917822: I external/local_xla/xla/service/service.cc:171]   StreamExecutor device (0): NVIDIA GeForce RTX 3060, Compute Capability 8.6\n",
      "2025-09-29 00:55:30.936256: I tensorflow/compiler/mlir/tensorflow/utils/dump_mlir_util.cc:269] disabling MLIR crash reproducer, set env var `MLIR_CRASH_REPRODUCER_DIRECTORY` to enable.\n",
      "2025-09-29 00:55:31.056064: I external/local_xla/xla/stream_executor/cuda/cuda_dnn.cc:473] Loaded cuDNN version 91300\n",
      "2025-09-29 00:55:31.163399: I external/local_xla/xla/service/gpu/autotuning/dot_search_space.cc:208] All configs were filtered out because none of them sufficiently match the hints. Maybe the hints set does not contain a good representative set of valid configs? Working around this by using the full hints set instead.\n",
      "2025-09-29 00:55:31.163466: I external/local_xla/xla/service/gpu/autotuning/dot_search_space.cc:208] All configs were filtered out because none of them sufficiently match the hints. Maybe the hints set does not contain a good representative set of valid configs? Working around this by using the full hints set instead.\n",
      "2025-09-29 00:55:31.359567: I external/local_xla/xla/stream_executor/cuda/subprocess_compilation.cc:346] ptxas warning : Registers are spilled to local memory in function 'gemm_fusion_dot_777', 8 bytes spill stores, 8 bytes spill loads\n",
      "\n",
      "2025-09-29 00:55:32.199861: I external/local_xla/xla/stream_executor/cuda/subprocess_compilation.cc:346] ptxas warning : Registers are spilled to local memory in function 'gemm_fusion_dot_777', 1244 bytes spill stores, 1172 bytes spill loads\n",
      "\n",
      "2025-09-29 00:55:32.214898: I external/local_xla/xla/stream_executor/cuda/subprocess_compilation.cc:346] ptxas warning : Registers are spilled to local memory in function 'gemm_fusion_dot_1416', 124 bytes spill stores, 124 bytes spill loads\n",
      "\n",
      "2025-09-29 00:55:32.668472: I external/local_xla/xla/stream_executor/cuda/subprocess_compilation.cc:346] ptxas warning : Registers are spilled to local memory in function 'gemm_fusion_dot_1454', 4 bytes spill stores, 4 bytes spill loads\n",
      "\n",
      "2025-09-29 00:55:32.751806: I external/local_xla/xla/stream_executor/cuda/subprocess_compilation.cc:346] ptxas warning : Registers are spilled to local memory in function 'gemm_fusion_dot_1454', 684 bytes spill stores, 684 bytes spill loads\n",
      "\n",
      "2025-09-29 00:55:32.784276: I external/local_xla/xla/stream_executor/cuda/subprocess_compilation.cc:346] ptxas warning : Registers are spilled to local memory in function 'gemm_fusion_dot_1454', 64 bytes spill stores, 64 bytes spill loads\n",
      "\n",
      "2025-09-29 00:55:33.106790: I external/local_xla/xla/stream_executor/cuda/subprocess_compilation.cc:346] ptxas warning : Registers are spilled to local memory in function 'gemm_fusion_dot_1502', 1292 bytes spill stores, 1292 bytes spill loads\n",
      "\n"
     ]
    },
    {
     "name": "stdout",
     "output_type": "stream",
     "text": [
      "\u001b[1m 39/391\u001b[0m \u001b[32m━\u001b[0m\u001b[37m━━━━━━━━━━━━━━━━━━━\u001b[0m \u001b[1m1s\u001b[0m 4ms/step - accuracy: 0.2600 - loss: 1.5910"
     ]
    },
    {
     "name": "stderr",
     "output_type": "stream",
     "text": [
      "I0000 00:00:1759125334.623560  164710 device_compiler.h:196] Compiled cluster using XLA!  This line is logged at most once for the lifetime of the process.\n"
     ]
    },
    {
     "name": "stdout",
     "output_type": "stream",
     "text": [
      "\u001b[1m381/391\u001b[0m \u001b[32m━━━━━━━━━━━━━━━━━━━\u001b[0m\u001b[37m━\u001b[0m \u001b[1m0s\u001b[0m 4ms/step - accuracy: 0.4336 - loss: 1.2840"
     ]
    },
    {
     "name": "stderr",
     "output_type": "stream",
     "text": [
      "2025-09-29 00:55:36.420696: I external/local_xla/xla/service/gpu/autotuning/dot_search_space.cc:208] All configs were filtered out because none of them sufficiently match the hints. Maybe the hints set does not contain a good representative set of valid configs? Working around this by using the full hints set instead.\n",
      "2025-09-29 00:55:36.420744: I external/local_xla/xla/service/gpu/autotuning/dot_search_space.cc:208] All configs were filtered out because none of them sufficiently match the hints. Maybe the hints set does not contain a good representative set of valid configs? Working around this by using the full hints set instead.\n",
      "2025-09-29 00:55:36.624705: I external/local_xla/xla/stream_executor/cuda/subprocess_compilation.cc:346] ptxas warning : Registers are spilled to local memory in function 'gemm_fusion_dot_777', 8 bytes spill stores, 8 bytes spill loads\n",
      "\n",
      "2025-09-29 00:55:37.716593: I external/local_xla/xla/stream_executor/cuda/subprocess_compilation.cc:346] ptxas warning : Registers are spilled to local memory in function 'gemm_fusion_dot_777', 1244 bytes spill stores, 1172 bytes spill loads\n",
      "\n",
      "2025-09-29 00:55:37.908030: I external/local_xla/xla/stream_executor/cuda/subprocess_compilation.cc:346] ptxas warning : Registers are spilled to local memory in function 'gemm_fusion_dot_1454', 4 bytes spill stores, 4 bytes spill loads\n",
      "\n",
      "2025-09-29 00:55:37.933029: I external/local_xla/xla/stream_executor/cuda/subprocess_compilation.cc:346] ptxas warning : Registers are spilled to local memory in function 'gemm_fusion_dot_1454', 64 bytes spill stores, 64 bytes spill loads\n",
      "\n",
      "2025-09-29 00:55:37.983138: I external/local_xla/xla/stream_executor/cuda/subprocess_compilation.cc:346] ptxas warning : Registers are spilled to local memory in function 'gemm_fusion_dot_1416', 580 bytes spill stores, 580 bytes spill loads\n",
      "\n"
     ]
    },
    {
     "name": "stdout",
     "output_type": "stream",
     "text": [
      "\u001b[1m391/391\u001b[0m \u001b[32m━━━━━━━━━━━━━━━━━━━━\u001b[0m\u001b[37m\u001b[0m \u001b[1m0s\u001b[0m 12ms/step - accuracy: 0.4351 - loss: 1.2808"
     ]
    },
    {
     "name": "stderr",
     "output_type": "stream",
     "text": [
      "2025-09-29 00:55:39.670631: I external/local_xla/xla/service/gpu/autotuning/dot_search_space.cc:208] All configs were filtered out because none of them sufficiently match the hints. Maybe the hints set does not contain a good representative set of valid configs? Working around this by using the full hints set instead.\n",
      "2025-09-29 00:55:40.203556: I external/local_xla/xla/stream_executor/cuda/subprocess_compilation.cc:346] ptxas warning : Registers are spilled to local memory in function 'gemm_fusion_dot_82', 116 bytes spill stores, 116 bytes spill loads\n",
      "\n",
      "2025-09-29 00:55:40.707050: I external/local_xla/xla/service/gpu/autotuning/dot_search_space.cc:208] All configs were filtered out because none of them sufficiently match the hints. Maybe the hints set does not contain a good representative set of valid configs? Working around this by using the full hints set instead.\n",
      "2025-09-29 00:55:41.099770: I external/local_xla/xla/stream_executor/cuda/subprocess_compilation.cc:346] ptxas warning : Registers are spilled to local memory in function 'gemm_fusion_dot_82', 12 bytes spill stores, 12 bytes spill loads\n",
      "\n",
      "2025-09-29 00:55:41.306837: I external/local_xla/xla/stream_executor/cuda/subprocess_compilation.cc:346] ptxas warning : Registers are spilled to local memory in function 'gemm_fusion_dot_82', 116 bytes spill stores, 116 bytes spill loads\n",
      "\n",
      "2025-09-29 00:55:41.344755: I external/local_xla/xla/stream_executor/cuda/subprocess_compilation.cc:346] ptxas warning : Registers are spilled to local memory in function 'gemm_fusion_dot_82', 8 bytes spill stores, 8 bytes spill loads\n",
      "\n",
      "2025-09-29 00:55:41.628461: I external/local_xla/xla/stream_executor/cuda/subprocess_compilation.cc:346] ptxas warning : Registers are spilled to local memory in function 'gemm_fusion_dot_68', 1620 bytes spill stores, 1176 bytes spill loads\n",
      "\n"
     ]
    },
    {
     "name": "stdout",
     "output_type": "stream",
     "text": [
      "\u001b[1m391/391\u001b[0m \u001b[32m━━━━━━━━━━━━━━━━━━━━\u001b[0m\u001b[37m\u001b[0m \u001b[1m12s\u001b[0m 19ms/step - accuracy: 0.4938 - loss: 1.1597 - val_accuracy: 0.5314 - val_loss: 1.0776 - learning_rate: 0.0010\n",
      "Epoch 2/50\n",
      "\u001b[1m391/391\u001b[0m \u001b[32m━━━━━━━━━━━━━━━━━━━━\u001b[0m\u001b[37m\u001b[0m \u001b[1m2s\u001b[0m 4ms/step - accuracy: 0.5515 - loss: 1.0446 - val_accuracy: 0.5282 - val_loss: 1.0796 - learning_rate: 0.0010\n",
      "Epoch 3/50\n",
      "\u001b[1m391/391\u001b[0m \u001b[32m━━━━━━━━━━━━━━━━━━━━\u001b[0m\u001b[37m\u001b[0m \u001b[1m2s\u001b[0m 5ms/step - accuracy: 0.5771 - loss: 0.9945 - val_accuracy: 0.5284 - val_loss: 1.0927 - learning_rate: 0.0010\n",
      "Epoch 4/50\n",
      "\u001b[1m391/391\u001b[0m \u001b[32m━━━━━━━━━━━━━━━━━━━━\u001b[0m\u001b[37m\u001b[0m \u001b[1m2s\u001b[0m 4ms/step - accuracy: 0.6078 - loss: 0.9311 - val_accuracy: 0.5224 - val_loss: 1.1324 - learning_rate: 0.0010\n",
      "Epoch 5/50\n",
      "\u001b[1m391/391\u001b[0m \u001b[32m━━━━━━━━━━━━━━━━━━━━\u001b[0m\u001b[37m\u001b[0m \u001b[1m2s\u001b[0m 4ms/step - accuracy: 0.6476 - loss: 0.8493 - val_accuracy: 0.5192 - val_loss: 1.1861 - learning_rate: 0.0010\n",
      "Epoch 6/50\n",
      "\u001b[1m387/391\u001b[0m \u001b[32m━━━━━━━━━━━━━━━━━━━\u001b[0m\u001b[37m━\u001b[0m \u001b[1m0s\u001b[0m 4ms/step - accuracy: 0.6812 - loss: 0.7848\n",
      "Epoch 6: ReduceLROnPlateau reducing learning rate to 0.0005000000237487257.\n",
      "\u001b[1m391/391\u001b[0m \u001b[32m━━━━━━━━━━━━━━━━━━━━\u001b[0m\u001b[37m\u001b[0m \u001b[1m2s\u001b[0m 4ms/step - accuracy: 0.6895 - loss: 0.7632 - val_accuracy: 0.5138 - val_loss: 1.2823 - learning_rate: 0.0010\n",
      "Epoch 7/50\n",
      "\u001b[1m391/391\u001b[0m \u001b[32m━━━━━━━━━━━━━━━━━━━━\u001b[0m\u001b[37m\u001b[0m \u001b[1m2s\u001b[0m 4ms/step - accuracy: 0.7430 - loss: 0.6448 - val_accuracy: 0.5144 - val_loss: 1.4051 - learning_rate: 5.0000e-04\n",
      "Epoch 8/50\n",
      "\u001b[1m391/391\u001b[0m \u001b[32m━━━━━━━━━━━━━━━━━━━━\u001b[0m\u001b[37m\u001b[0m \u001b[1m2s\u001b[0m 4ms/step - accuracy: 0.7733 - loss: 0.5752 - val_accuracy: 0.5028 - val_loss: 1.5157 - learning_rate: 5.0000e-04\n",
      "Epoch 9/50\n",
      "\u001b[1m391/391\u001b[0m \u001b[32m━━━━━━━━━━━━━━━━━━━━\u001b[0m\u001b[37m\u001b[0m \u001b[1m2s\u001b[0m 4ms/step - accuracy: 0.7963 - loss: 0.5250 - val_accuracy: 0.5006 - val_loss: 1.6013 - learning_rate: 5.0000e-04\n",
      "Epoch 10/50\n",
      "\u001b[1m391/391\u001b[0m \u001b[32m━━━━━━━━━━━━━━━━━━━━\u001b[0m\u001b[37m\u001b[0m \u001b[1m2s\u001b[0m 4ms/step - accuracy: 0.8140 - loss: 0.4835 - val_accuracy: 0.5040 - val_loss: 1.6910 - learning_rate: 5.0000e-04\n",
      "Epoch 11/50\n",
      "\u001b[1m391/391\u001b[0m \u001b[32m━━━━━━━━━━━━━━━━━━━━\u001b[0m\u001b[37m\u001b[0m \u001b[1m0s\u001b[0m 4ms/step - accuracy: 0.8237 - loss: 0.4614\n",
      "Epoch 11: ReduceLROnPlateau reducing learning rate to 0.0002500000118743628.\n",
      "\u001b[1m391/391\u001b[0m \u001b[32m━━━━━━━━━━━━━━━━━━━━\u001b[0m\u001b[37m\u001b[0m \u001b[1m2s\u001b[0m 4ms/step - accuracy: 0.8290 - loss: 0.4477 - val_accuracy: 0.4996 - val_loss: 1.7601 - learning_rate: 5.0000e-04\n",
      "Epoch 11: early stopping\n",
      "Restoring model weights from the end of the best epoch: 1.\n"
     ]
    },
    {
     "name": "stderr",
     "output_type": "stream",
     "text": [
      "WARNING:absl:You are saving your model as an HDF5 file via `model.save()` or `keras.saving.save_model(model)`. This file format is considered legacy. We recommend using instead the native Keras format, e.g. `model.save('my_model.keras')` or `keras.saving.save_model(model, 'my_model.keras')`. \n"
     ]
    },
    {
     "name": "stdout",
     "output_type": "stream",
     "text": [
      "Modelo guardado en: models/MLP_BoW_20250929_005527.h5\n",
      "\n",
      "Entrenamiento completado:\n",
      "Épocas entrenadas: 11\n",
      "Tiempo de entrenamiento: 31.2 segundos\n",
      "Accuracy final (entrenamiento): 0.8290\n",
      "Accuracy final (validación): 0.4996\n"
     ]
    }
   ],
   "source": [
    "# Inicializar el entrenador de modelos\n",
    "model_trainer = ModelTrainer(model_dir=MODEL_DIR)\n",
    "\n",
    "# Entrenar el modelo\n",
    "print(\"Iniciando entrenamiento...\")\n",
    "training_results = model_trainer.train_model(\n",
    "    model=model,\n",
    "    X_train=X_train,\n",
    "    y_train=y_train,\n",
    "    X_val=X_val,\n",
    "    y_val=y_val,\n",
    "    epochs=EPOCHS,\n",
    "    batch_size=BATCH_SIZE,\n",
    "    patience=PATIENCE,\n",
    "    model_name=f\"{MODEL_TYPE}_{datetime.now().strftime('%Y%m%d_%H%M%S')}\"\n",
    ")\n",
    "\n",
    "print(f\"\\nEntrenamiento completado:\")\n",
    "print(f\"Épocas entrenadas: {training_results['epochs_trained']}\")\n",
    "print(f\"Tiempo de entrenamiento: {training_results['training_time']:.1f} segundos\")\n",
    "print(f\"Accuracy final (entrenamiento): {training_results['final_train_accuracy']:.4f}\")\n",
    "print(f\"Accuracy final (validación): {training_results['final_val_accuracy']:.4f}\")"
   ]
  },
  {
   "cell_type": "markdown",
   "id": "24905dfc",
   "metadata": {},
   "source": [
    "## 6. Visualización del Entrenamiento"
   ]
  },
  {
   "cell_type": "code",
   "execution_count": 7,
   "id": "d6c99001",
   "metadata": {},
   "outputs": [
    {
     "name": "stdout",
     "output_type": "stream",
     "text": [
      "Gráfico de historial de entrenamiento guardado en: output/MLP_BoW_training_history.png\n"
     ]
    },
    {
     "data": {
      "image/png": "[encoded data removed]",
      "text/plain": [
       "<Figure size 1500x500 with 2 Axes>"
      ]
     },
     "metadata": {},
     "output_type": "display_data"
    }
   ],
   "source": [
    "# Visualizar el historial de entrenamiento\n",
    "Visualizer.plot_training_history(\n",
    "    history=training_results['history'],\n",
    "    model_name=MODEL_TYPE,\n",
    "    save_path=os.path.join(OUTPUT_DIR, f\"{MODEL_TYPE}_training_history.png\")\n",
    ")"
   ]
  },
  {
   "cell_type": "markdown",
   "id": "e4484364",
   "metadata": {},
   "source": [
    "## 7. Evaluación del Modelo"
   ]
  },
  {
   "cell_type": "code",
   "execution_count": 8,
   "id": "dc3f6730",
   "metadata": {},
   "outputs": [
    {
     "name": "stdout",
     "output_type": "stream",
     "text": [
      "Evaluando modelo en datos de prueba...\n"
     ]
    },
    {
     "name": "stderr",
     "output_type": "stream",
     "text": [
      "2025-09-29 00:55:59.621922: I external/local_xla/xla/service/gpu/autotuning/dot_search_space.cc:208] All configs were filtered out because none of them sufficiently match the hints. Maybe the hints set does not contain a good representative set of valid configs? Working around this by using the full hints set instead.\n",
      "2025-09-29 00:55:59.621945: I external/local_xla/xla/service/gpu/autotuning/dot_search_space.cc:208] All configs were filtered out because none of them sufficiently match the hints. Maybe the hints set does not contain a good representative set of valid configs? Working around this by using the full hints set instead.\n",
      "2025-09-29 00:55:59.872557: I external/local_xla/xla/stream_executor/cuda/subprocess_compilation.cc:346] ptxas warning : Registers are spilled to local memory in function 'gemm_fusion_dot_11', 4 bytes spill stores, 4 bytes spill loads\n",
      "\n",
      "2025-09-29 00:56:00.223106: I external/local_xla/xla/stream_executor/cuda/subprocess_compilation.cc:346] ptxas warning : Registers are spilled to local memory in function 'gemm_fusion_dot_18', 8 bytes spill stores, 8 bytes spill loads\n",
      "\n",
      "2025-09-29 00:56:00.692328: I external/local_xla/xla/stream_executor/cuda/subprocess_compilation.cc:346] ptxas warning : Registers are spilled to local memory in function 'gemm_fusion_dot_25', 100 bytes spill stores, 100 bytes spill loads\n",
      "\n"
     ]
    },
    {
     "name": "stdout",
     "output_type": "stream",
     "text": [
      "\u001b[1m 87/157\u001b[0m \u001b[32m━━━━━━━━━━━\u001b[0m\u001b[37m━━━━━━━━━\u001b[0m \u001b[1m0s\u001b[0m 585us/step"
     ]
    },
    {
     "name": "stderr",
     "output_type": "stream",
     "text": [
      "2025-09-29 00:56:02.026133: I external/local_xla/xla/stream_executor/cuda/subprocess_compilation.cc:346] ptxas warning : Registers are spilled to local memory in function 'gemm_fusion_dot_18', 8 bytes spill stores, 8 bytes spill loads\n",
      "\n"
     ]
    },
    {
     "name": "stdout",
     "output_type": "stream",
     "text": [
      "\u001b[1m157/157\u001b[0m \u001b[32m━━━━━━━━━━━━━━━━━━━━\u001b[0m\u001b[37m\u001b[0m \u001b[1m3s\u001b[0m 7ms/step\n",
      "Precisión de Prueba: 0.5290\n",
      "Pérdida de Prueba: 1.0796\n",
      "\n",
      "Reporte de Clasificación:\n",
      "              precision    recall  f1-score   support\n",
      "\n",
      "           1       0.64      0.72      0.68      1000\n",
      "           2       0.44      0.44      0.44      1000\n",
      "           3       0.41      0.36      0.38      1000\n",
      "           4       0.47      0.39      0.43      1000\n",
      "           5       0.61      0.74      0.67      1000\n",
      "\n",
      "    accuracy                           0.53      5000\n",
      "   macro avg       0.52      0.53      0.52      5000\n",
      "weighted avg       0.52      0.53      0.52      5000\n",
      "\n",
      "\n",
      "Resultados en conjunto de prueba:\n",
      "Accuracy: 0.5290\n",
      "Loss: 1.0796\n",
      "F1-Score (macro): 0.5205\n",
      "F1-Score (weighted): 0.5205\n"
     ]
    }
   ],
   "source": [
    "# Evaluar el modelo en el conjunto de prueba\n",
    "evaluation_results = evaluate_model(\n",
    "    model=model,\n",
    "    X_test=X_test,\n",
    "    y_test=y_test,\n",
    "    class_names=class_names\n",
    ")\n",
    "\n",
    "# Extraer métricas de evaluación\n",
    "test_accuracy = evaluation_results['test_accuracy']\n",
    "test_loss = evaluation_results['test_loss']\n",
    "classification_rep = evaluation_results['classification_report']\n",
    "y_true = evaluation_results['y_true']\n",
    "y_pred = evaluation_results['y_pred']\n",
    "\n",
    "print(f\"\\nResultados en conjunto de prueba:\")\n",
    "print(f\"Accuracy: {test_accuracy:.4f}\")\n",
    "print(f\"Loss: {test_loss:.4f}\")\n",
    "print(f\"F1-Score (macro): {classification_rep['macro avg']['f1-score']:.4f}\")\n",
    "print(f\"F1-Score (weighted): {classification_rep['weighted avg']['f1-score']:.4f}\")"
   ]
  },
  {
   "cell_type": "markdown",
   "id": "dc34bb6f",
   "metadata": {},
   "source": [
    "## 8. Matriz de Confusión"
   ]
  },
  {
   "cell_type": "code",
   "execution_count": 9,
   "id": "f4183361",
   "metadata": {},
   "outputs": [
    {
     "name": "stdout",
     "output_type": "stream",
     "text": [
      "Matriz de confusión guardada en: output/MLP_BoW_confusion_matrix.png\n"
     ]
    },
    {
     "data": {
      "image/png": "[encoded data removed]",
      "text/plain": [
       "<Figure size 800x600 with 2 Axes>"
      ]
     },
     "metadata": {},
     "output_type": "display_data"
    }
   ],
   "source": [
    "# Visualizar matriz de confusión\n",
    "Visualizer.plot_confusion_matrix(\n",
    "    y_true=y_true,\n",
    "    y_pred=y_pred,\n",
    "    class_names=class_names,\n",
    "    model_name=MODEL_TYPE,\n",
    "    save_path=os.path.join(OUTPUT_DIR, f\"{MODEL_TYPE}_confusion_matrix.png\")\n",
    ")"
   ]
  },
  {
   "cell_type": "markdown",
   "id": "20bae31f",
   "metadata": {},
   "source": [
    "## 9. Guardado de Resultados del Experimento"
   ]
  },
  {
   "cell_type": "code",
   "execution_count": 10,
   "id": "625c28f1",
   "metadata": {},
   "outputs": [
    {
     "name": "stdout",
     "output_type": "stream",
     "text": [
      "Experiment 2 results saved to output/experiment_history.json\n",
      "\n",
      "Experimento #2 guardado exitosamente.\n",
      "Idioma utilizado: en\n",
      "Modelo guardado en: models/MLP_BoW_20250929_005527.h5\n",
      "Resultados guardados en: output/experiment_history.json\n"
     ]
    }
   ],
   "source": [
    "# Preparar datos del experimento para guardar\n",
    "experiment_data = {\n",
    "    'experiment_name': EXPERIMENT_NAME,\n",
    "    'configuration': {\n",
    "        'model_type': MODEL_TYPE,\n",
    "        'text_column': TEXT_COLUMN,\n",
    "        'target_column': TARGET_COLUMN,\n",
    "        'language_filter': FILTER_LANGUAGE,\n",
    "        'max_features': MAX_FEATURES,\n",
    "        'min_df': MIN_DF,\n",
    "        'max_df': MAX_DF,\n",
    "        'hidden_layers': HIDDEN_LAYERS,\n",
    "        'activation': ACTIVATION,\n",
    "        'output_activation': OUTPUT_ACTIVATION,\n",
    "        'dropout_rate': DROPOUT_RATE,\n",
    "        'epochs': EPOCHS,\n",
    "        'batch_size': BATCH_SIZE,\n",
    "        'learning_rate': LEARNING_RATE,\n",
    "        'patience': PATIENCE,\n",
    "        'optimizer': OPTIMIZER,\n",
    "        'loss_function': LOSS_FUNCTION,\n",
    "        'random_seed': RANDOM_SEED,\n",
    "        'total_parameters': total_params,\n",
    "        'gpu_used': gpu_info['gpu_available']\n",
    "    },\n",
    "    'dataset_info': {\n",
    "        'train_samples': len(train_df),\n",
    "        'val_samples': len(val_df),\n",
    "        'test_samples': len(test_df),\n",
    "        'num_classes': num_classes,\n",
    "        'vocab_size': vocab_size,\n",
    "        'class_distribution': class_distribution.to_dict(),\n",
    "        'language_used': FILTER_LANGUAGE if FILTER_LANGUAGE else \"multilingual\"\n",
    "    },\n",
    "    'training_results': training_results,\n",
    "    'evaluation_metrics': {\n",
    "        'test_accuracy': test_accuracy,\n",
    "        'test_loss': test_loss,\n",
    "        'f1_macro': classification_rep['macro avg']['f1-score'],\n",
    "        'f1_weighted': classification_rep['weighted avg']['f1-score'],\n",
    "        'precision_macro': classification_rep['macro avg']['precision'],\n",
    "        'recall_macro': classification_rep['macro avg']['recall'],\n",
    "        'classification_report': classification_rep\n",
    "    },\n",
    "    'gpu_info': gpu_info\n",
    "}\n",
    "\n",
    "# Guardar resultados del experimento\n",
    "results_manager = ResultsManager(output_dir=OUTPUT_DIR)\n",
    "experiment_id = results_manager.save_experiment_results(experiment_data)\n",
    "\n",
    "print(f\"\\nExperimento #{experiment_id} guardado exitosamente.\")\n",
    "print(f\"Idioma utilizado: {FILTER_LANGUAGE if FILTER_LANGUAGE else 'Multiidioma'}\")\n",
    "print(f\"Modelo guardado en: {training_results['model_path']}\")\n",
    "print(f\"Resultados guardados en: {OUTPUT_DIR}/experiment_history.json\")"
   ]
  },
  {
   "cell_type": "markdown",
   "id": "70cc54a1",
   "metadata": {},
   "source": [
    "## 10. Resumen del Experimento"
   ]
  },
  {
   "cell_type": "code",
   "execution_count": 11,
   "id": "7b353d31",
   "metadata": {},
   "outputs": [
    {
     "name": "stdout",
     "output_type": "stream",
     "text": [
      "RESUMEN DEL EXPERIMENTO #2\n",
      "============================================================\n",
      "Modelo: MLP_BoW\n",
      "Idioma: en\n",
      "Arquitectura: [256, 128, 64]\n",
      "Parámetros totales: 1,321,733\n",
      "\n",
      "Dataset:\n",
      "  - Entrenamiento: 200,000 muestras\n",
      "  - Validación: 5,000 muestras\n",
      "  - Prueba: 5,000 muestras\n",
      "\n",
      "Entrenamiento:\n",
      "  - Épocas: 11/50\n",
      "  - Tiempo: 31.2s\n",
      "  - Batch size: 512\n",
      "  - Learning rate: 0.001\n",
      "\n",
      "Resultados:\n",
      "  - Test Accuracy: 0.5290\n",
      "  - Test Loss: 1.0796\n",
      "  - F1-Score (macro): 0.5205\n",
      "  - F1-Score (weighted): 0.5205\n",
      "\n",
      "Hardware: GPU\n",
      "\n",
      "Distribución de clases utilizadas:\n",
      "  1 estrella(s): 40,000 (20.0%)\n",
      "  2 estrella(s): 40,000 (20.0%)\n",
      "  3 estrella(s): 40,000 (20.0%)\n",
      "  4 estrella(s): 40,000 (20.0%)\n",
      "  5 estrella(s): 40,000 (20.0%)\n"
     ]
    }
   ],
   "source": [
    "# Mostrar resumen del experimento actual\n",
    "print(f\"RESUMEN DEL EXPERIMENTO #{experiment_id}\")\n",
    "print(\"=\" * 60)\n",
    "print(f\"Modelo: {MODEL_TYPE}\")\n",
    "print(f\"Idioma: {FILTER_LANGUAGE if FILTER_LANGUAGE else 'Multiidioma (todos)'}\")\n",
    "print(f\"Arquitectura: {HIDDEN_LAYERS}\")\n",
    "print(f\"Parámetros totales: {total_params:,}\")\n",
    "print(f\"\")\n",
    "print(f\"Dataset:\")\n",
    "print(f\"  - Entrenamiento: {len(train_df):,} muestras\")\n",
    "print(f\"  - Validación: {len(val_df):,} muestras\")\n",
    "print(f\"  - Prueba: {len(test_df):,} muestras\")\n",
    "print(f\"\")\n",
    "print(f\"Entrenamiento:\")\n",
    "print(f\"  - Épocas: {training_results['epochs_trained']}/{EPOCHS}\")\n",
    "print(f\"  - Tiempo: {training_results['training_time']:.1f}s\")\n",
    "print(f\"  - Batch size: {BATCH_SIZE}\")\n",
    "print(f\"  - Learning rate: {LEARNING_RATE}\")\n",
    "print(f\"\")\n",
    "print(f\"Resultados:\")\n",
    "print(f\"  - Test Accuracy: {test_accuracy:.4f}\")\n",
    "print(f\"  - Test Loss: {test_loss:.4f}\")\n",
    "print(f\"  - F1-Score (macro): {classification_rep['macro avg']['f1-score']:.4f}\")\n",
    "print(f\"  - F1-Score (weighted): {classification_rep['weighted avg']['f1-score']:.4f}\")\n",
    "print(f\"\")\n",
    "print(f\"Hardware: {'GPU' if gpu_info['gpu_available'] else 'CPU'}\")\n",
    "\n",
    "# Mostrar distribución de clases final\n",
    "print(f\"\")\n",
    "print(f\"Distribución de clases utilizadas:\")\n",
    "for stars, count in class_distribution.items():\n",
    "    percentage = (count / len(train_df)) * 100\n",
    "    print(f\"  {stars} estrella(s): {count:,} ({percentage:.1f}%)\")"
   ]
  },
  {
   "cell_type": "markdown",
   "id": "49547771",
   "metadata": {},
   "source": [
    "## 11. Historial de Experimentos"
   ]
  },
  {
   "cell_type": "code",
   "execution_count": 12,
   "id": "76d1a148",
   "metadata": {},
   "outputs": [
    {
     "name": "stdout",
     "output_type": "stream",
     "text": [
      "\n",
      "HISTORIAL DE EXPERIMENTOS (2 experimentos)\n",
      "====================================================================================================\n",
      "\n",
      "ID  Modelo       Lang   Precisión  Pérdida    Épocas   Tiempo (s) Muestras  \n",
      "-----------------------------------------------------------------------------------------------\n",
      "1   MLP Embeddi  en     0.5932     0.9655     25       213.2      200,000   \n",
      "2   MLP_BoW      en     0.4996     1.7601     11       31.2       200,000   \n",
      "\n",
      "BEST EXPERIMENTS BY LANGUAGE:\n",
      "--------------------------------------------------\n",
      "en    : ID #1 - Accuracy: 0.5932 (200,000 samples)\n",
      "\n",
      "OVERALL BEST: ID #1 (en) - Accuracy: 0.5932\n"
     ]
    }
   ],
   "source": [
    "# Mostrar historial completo de experimentos\n",
    "results_manager.display_experiment_history()"
   ]
  },
  {
   "cell_type": "markdown",
   "id": "75f358e6",
   "metadata": {},
   "source": [
    "## 12. Análisis de Errores"
   ]
  },
  {
   "cell_type": "code",
   "execution_count": 13,
   "id": "f9278c77",
   "metadata": {},
   "outputs": [
    {
     "name": "stdout",
     "output_type": "stream",
     "text": [
      "ANÁLISIS DE ERRORES (2355 errores total)\n",
      "============================================================\n",
      "Error #1:\n",
      "Texto: Four Stars I wear a 10.5 and they fit perfect...\n",
      "Etiqueta real: 4 estrellas\n",
      "Predicción: 5 estrellas\n",
      "----------------------------------------\n",
      "Error #2:\n",
      "Texto: Cards are ok, but packaging is wasteful and expensive! Cards are ok — as pictured. But the packaging is wasteful and unnecessary. I’m sure a huge perc...\n",
      "Etiqueta real: 2 estrellas\n",
      "Predicción: 3 estrellas\n",
      "----------------------------------------\n",
      "Error #3:\n",
      "Texto: The first bandage I pulled out was already open It was open and the bandage inside was quite crooked. Skeeved me out. The rest seemed to be sealed, bu...\n",
      "Etiqueta real: 2 estrellas\n",
      "Predicción: 1 estrellas\n",
      "----------------------------------------\n",
      "Error #4:\n",
      "Texto: Perfect It fits as a true medium...\n",
      "Etiqueta real: 4 estrellas\n",
      "Predicción: 5 estrellas\n",
      "----------------------------------------\n",
      "Error #5:\n",
      "Texto: Useless pockets! 😡 The pockets are so small I couldn't fit my phone in them. Aside from that's it's a nice fall t-shirt dress...\n",
      "Etiqueta real: 3 estrellas\n",
      "Predicción: 2 estrellas\n",
      "----------------------------------------\n"
     ]
    }
   ],
   "source": [
    "# Analizar algunos errores del modelo\n",
    "def analyze_errors(X_test, y_test, y_pred, test_df, text_column, target_column, n_examples=5):\n",
    "    \"\"\"\n",
    "    Analizar ejemplos donde el modelo se equivocó.\n",
    "    \"\"\"\n",
    "    # Encontrar índices donde el modelo se equivocó\n",
    "    y_test_labels = np.argmax(y_test, axis=1)\n",
    "    error_indices = np.where(y_test_labels != y_pred)[0]\n",
    "    \n",
    "    if len(error_indices) == 0:\n",
    "        print(\"Perfecto. El modelo no cometió errores en el conjunto de prueba.\")\n",
    "        return\n",
    "    \n",
    "    print(f\"ANÁLISIS DE ERRORES ({len(error_indices)} errores total)\")\n",
    "    print(\"=\" * 60)\n",
    "    \n",
    "    # Mostrar algunos ejemplos de errores\n",
    "    sample_errors = np.random.choice(error_indices, \n",
    "                                   min(n_examples, len(error_indices)), \n",
    "                                   replace=False)\n",
    "    \n",
    "    for i, idx in enumerate(sample_errors):\n",
    "        true_label = y_test_labels[idx]\n",
    "        pred_label = y_pred[idx]\n",
    "        \n",
    "        # Construir el texto como se hizo en el preprocesamiento\n",
    "        if USE_TITLE_AND_BODY and TITLE_COLUMN in test_df.columns:\n",
    "            title = test_df.iloc[idx][TITLE_COLUMN]\n",
    "            body = test_df.iloc[idx][text_column]\n",
    "            text = f\"{title} {body}\"\n",
    "        else:\n",
    "            text = test_df.iloc[idx][text_column]\n",
    "        \n",
    "        print(f\"Error #{i+1}:\")\n",
    "        print(f\"Texto: {text[:150]}...\")\n",
    "        print(f\"Etiqueta real: {true_label + 1} estrellas\")\n",
    "        print(f\"Predicción: {pred_label + 1} estrellas\")\n",
    "        print(\"-\" * 40)\n",
    "\n",
    "# Realizar análisis de errores\n",
    "analyze_errors(X_test, y_test, y_pred, test_df, TEXT_COLUMN, TARGET_COLUMN)"
   ]
  },
  {
   "cell_type": "markdown",
   "id": "4d97d5c4",
   "metadata": {},
   "source": [
    "## 13. Predicciones de Ejemplo"
   ]
  },
  {
   "cell_type": "code",
   "execution_count": 14,
   "id": "49f96e09",
   "metadata": {},
   "outputs": [
    {
     "name": "stdout",
     "output_type": "stream",
     "text": [
      "Usando formato: [TÍTULO] + [CUERPO] procesado con BoW/TF-IDF\n",
      "Vocabulario del modelo: 5,000 características\n",
      "Shape de X_sample: (5, 5000)\n",
      "Shape después de conversión: (5, 5000)\n"
     ]
    },
    {
     "name": "stderr",
     "output_type": "stream",
     "text": [
      "2025-09-29 00:56:04.594352: I external/local_xla/xla/stream_executor/cuda/subprocess_compilation.cc:346] ptxas warning : Registers are spilled to local memory in function 'gemm_fusion_dot_18', 8 bytes spill stores, 8 bytes spill loads\n",
      "\n"
     ]
    },
    {
     "name": "stdout",
     "output_type": "stream",
     "text": [
      "PREDICCIONES DE EJEMPLO (BoW/TF-IDF):\n",
      "============================================================\n",
      "Texto: Excelente producto Este producto es excelente, muy buena calidad y llegó rápido. Recomendado totalme...\n",
      "Predicción: 2 estrellas (confianza: 0.319)\n",
      "----------------------------------------\n",
      "Texto: Producto terrible Terrible producto, no funciona como se describe. Muy decepcionante....\n",
      "Predicción: 1 estrellas (confianza: 0.928)\n",
      "----------------------------------------\n",
      "Texto: Producto normal El producto está bien, cumple con lo básico. Nada extraordinario....\n",
      "Predicción: 2 estrellas (confianza: 0.374)\n",
      "----------------------------------------\n",
      "Texto: Producto increíble Increíble calidad, superó mis expectativas completamente. Cinco estrellas....\n",
      "Predicción: 2 estrellas (confianza: 0.319)\n",
      "----------------------------------------\n",
      "Texto: No recomendado No recomiendo este producto, muy mala experiencia de compra. Una estrella....\n",
      "Predicción: 2 estrellas (confianza: 0.319)\n",
      "----------------------------------------\n"
     ]
    }
   ],
   "source": [
    "def predict_sample_texts(model, vectorizer, sample_texts, class_names):\n",
    "    \"\"\"\n",
    "    Hacer predicciones en textos de ejemplo usando BoW/TF-IDF.\n",
    "    \n",
    "    Args:\n",
    "        model: Modelo entrenado\n",
    "        vectorizer: Vectorizador TF-IDF usado para entrenar\n",
    "        sample_texts: Lista de textos de ejemplo\n",
    "        class_names: Nombres de las clases\n",
    "    \"\"\"\n",
    "    try:\n",
    "        # Procesar textos con el vectorizador\n",
    "        X_sample = vectorizer.transform(sample_texts)\n",
    "        print(f\"Shape de X_sample: {X_sample.shape}\")\n",
    "        \n",
    "        # Convertir a array denso si es necesario\n",
    "        if hasattr(X_sample, 'toarray'):\n",
    "            X_sample_dense = X_sample.toarray()\n",
    "        else:\n",
    "            X_sample_dense = X_sample\n",
    "        \n",
    "        print(f\"Shape después de conversión: {X_sample_dense.shape}\")\n",
    "        \n",
    "        # Hacer predicciones\n",
    "        predictions = model.predict(X_sample_dense, verbose=0)\n",
    "        predicted_classes = np.argmax(predictions, axis=1)\n",
    "        \n",
    "        print(\"PREDICCIONES DE EJEMPLO (BoW/TF-IDF):\")\n",
    "        print(\"=\" * 60)\n",
    "        \n",
    "        for i, text in enumerate(sample_texts):\n",
    "            pred_class = predicted_classes[i]\n",
    "            confidence = predictions[i][pred_class]\n",
    "            \n",
    "            print(f\"Texto: {text[:100]}...\")\n",
    "            print(f\"Predicción: {class_names[pred_class]} estrellas (confianza: {confidence:.3f})\")\n",
    "            print(\"-\" * 40)\n",
    "            \n",
    "    except Exception as e:\n",
    "        print(f\"Error en predicción: {e}\")\n",
    "        print(f\"Tipo de error: {type(e)}\")\n",
    "        # Información adicional para debug\n",
    "        print(f\"Shape del modelo entrada esperada: {model.input_shape}\")\n",
    "        print(f\"Tipo de vectorizer: {type(vectorizer)}\")\n",
    "\n",
    "# Ejemplos de textos para probar - OPTIMIZADOS PARA BOW/TF-IDF\n",
    "if USE_TITLE_AND_BODY:\n",
    "    sample_texts = [\n",
    "        \"Excelente producto Este producto es excelente, muy buena calidad y llegó rápido. Recomendado totalmente.\",\n",
    "        \"Producto terrible Terrible producto, no funciona como se describe. Muy decepcionante.\", \n",
    "        \"Producto normal El producto está bien, cumple con lo básico. Nada extraordinario.\",\n",
    "        \"Producto increíble Increíble calidad, superó mis expectativas completamente. Cinco estrellas.\",\n",
    "        \"No recomendado No recomiendo este producto, muy mala experiencia de compra. Una estrella.\"\n",
    "    ]\n",
    "    print(\"Usando formato: [TÍTULO] + [CUERPO] procesado con BoW/TF-IDF\")\n",
    "else:\n",
    "    sample_texts = [\n",
    "        \"Este producto es excelente, muy buena calidad y llegó rápido. Recomendado totalmente.\",\n",
    "        \"Terrible producto, no funciona como se describe. Muy decepcionante.\", \n",
    "        \"El producto está bien, cumple con lo básico. Nada extraordinario.\",\n",
    "        \"Increíble calidad, superó mis expectativas completamente. Cinco estrellas.\",\n",
    "        \"No recomiendo este producto, muy mala experiencia de compra. Una estrella.\"\n",
    "    ]\n",
    "    print(\"Usando formato: solo [CUERPO] procesado con BoW/TF-IDF\")\n",
    "\n",
    "print(f\"Vocabulario del modelo: {vocab_size:,} características\")\n",
    "\n",
    "# Hacer predicciones en ejemplos\n",
    "predict_sample_texts(\n",
    "    model=model,\n",
    "    vectorizer=data_loader.vectorizer,\n",
    "    sample_texts=sample_texts,\n",
    "    class_names=class_names\n",
    ")"
   ]
  }
 ],
 "metadata": {
  "kernelspec": {
   "display_name": "py310ia",
   "language": "python",
   "name": "python3"
  },
  "language_info": {
   "codemirror_mode": {
    "name": "ipython",
    "version": 3
   },
   "file_extension": ".py",
   "mimetype": "text/x-python",
   "name": "python",
   "nbconvert_exporter": "python",
   "pygments_lexer": "ipython3",
   "version": "3.10.18"
  }
 },
 "nbformat": 4,
 "nbformat_minor": 5
}
