{
 "cells": [
  {
   "cell_type": "markdown",
   "id": "493885d5",
   "metadata": {},
   "source": [
    "# Proyecto Redes Neuronales: Perceptrón Multicapa\n",
    "\n",
    "**Curso:** Redes Neuronales 2025-II  \n",
    "**Objetivo:** Entrenar y evaluar un modelo de Perceptrón Multicapa (MLP) para clasificación de texto según el enunciado del proyecto.  \n",
    "**Autor:** Herney Eduardo Quintero Trochez  \n",
    "**Fecha:** 2025  \n",
    "**Universidad:** Universidad Del Valle  \n",
    "\n",
    "## Componentes implementados:\n",
    "1. Configuración de Parámetros Globales\n",
    "2. Carga y Preprocesamiento de Datos\n",
    "3. Tokenización y Creación del Vocabulario\n",
    "4. Construcción del Modelo MLP\n",
    "5. Entrenamiento con Early Stopping\n",
    "6. Evaluación del Modelo\n",
    "7. Guardado de Resultados y Modelos\n",
    "8. Visualización de Resultados\n",
    "9. Historial de Experimentos"
   ]
  },
  {
   "cell_type": "markdown",
   "id": "53f37abf",
   "metadata": {},
   "source": [
    "## 0. Configuración de Parámetros Globales\n",
    "\n",
    "Esta sección permite modificar fácilmente todos los parámetros del modelo para experimentar."
   ]
  },
  {
   "cell_type": "code",
   "execution_count": 1,
   "id": "3b42a10a",
   "metadata": {},
   "outputs": [
    {
     "name": "stdout",
     "output_type": "stream",
     "text": [
      "=== Configuración del Experimento: MultiLayer_Perceptron ===\n",
      "Modelo: MLP\n",
      "Filtro de idioma: en\n",
      "Arquitectura oculta: [256, 128, 64]\n",
      "Dimensión embedding: 300\n",
      "Dropout: 0.3\n",
      "Épocas máximas: 50\n",
      "Batch size: 512\n",
      "Tasa de aprendizaje: 0.001\n",
      "============================================================\n"
     ]
    }
   ],
   "source": [
    "# ===== CONFIGURACIÓN DE PARÁMETROS GLOBALES =====\n",
    "# Esta sección centraliza todos los parámetros del modelo para facilitar experimentación\n",
    "\n",
    "# Configuración general del experimento\n",
    "EXPERIMENT_NAME = \"MultiLayer_Perceptron\"\n",
    "MODEL_TYPE = \"MLP\"  # Perceptrón Multi-Capa  \n",
    "RANDOM_SEED = 42\n",
    "\n",
    "# Directorios de trabajo\n",
    "DATA_DIR = \"data\"\n",
    "MODEL_DIR = \"models\"\n",
    "OUTPUT_DIR = \"output\"\n",
    "\n",
    "# Configuración del dataset\n",
    "TEXT_COLUMN = \"review_body\"  # Columna con el texto a clasificar\n",
    "TARGET_COLUMN = \"stars\"  # Columna con las etiquetas (1-5 estrellas)\n",
    "LANGUAGE_COLUMN = \"language\"  # Columna con el idioma\n",
    "FILTER_LANGUAGE = \"en\"  # Filtrar por idioma específico. Opciones: None, \"en\", \"es\", \"de\", \"fr\", \"ja\"\n",
    "MAX_WORDS = 80000  # Tamaño máximo del vocabulario\n",
    "MAX_LENGTH = 250  # Longitud máxima de las secuencias\n",
    "OOV_TOKEN = \"<OOV>\"  # Token para palabras fuera del vocabulario\n",
    "\n",
    "# Parámetros de arquitectura del modelo - MLP\n",
    "EMBEDDING_DIM = 300  # Dimensión del embedding de palabras\n",
    "HIDDEN_LAYERS = [256, 128, 64]  # Lista con el número de neuronas en cada capa oculta\n",
    "ACTIVATION = \"relu\"  # Función de activación para capas ocultas\n",
    "OUTPUT_ACTIVATION = \"softmax\"  # Función de activación para la capa de salida\n",
    "DROPOUT_RATE = 0.3  # Tasa de dropout para regularización\n",
    "\n",
    "# Parámetros de entrenamiento\n",
    "EPOCHS = 50  # Número máximo de épocas de entrenamiento\n",
    "BATCH_SIZE = 512  # Tamaño del batch\n",
    "LEARNING_RATE = 0.001  # Tasa de aprendizaje\n",
    "PATIENCE = 10  # Paciencia para early stopping\n",
    "OPTIMIZER = \"adam\"  # Optimizador a usar\n",
    "LOSS_FUNCTION = \"categorical_crossentropy\"  # Función de pérdida\n",
    "METRICS = [\"accuracy\"]  # Métricas a monitorear\n",
    "\n",
    "print(f\"=== Configuración del Experimento: {EXPERIMENT_NAME} ===\")\n",
    "print(f\"Modelo: {MODEL_TYPE}\")\n",
    "print(f\"Filtro de idioma: {FILTER_LANGUAGE if FILTER_LANGUAGE else 'Multiidioma'}\")\n",
    "print(f\"Arquitectura oculta: {HIDDEN_LAYERS}\")\n",
    "print(f\"Dimensión embedding: {EMBEDDING_DIM}\")\n",
    "print(f\"Dropout: {DROPOUT_RATE}\")\n",
    "print(f\"Épocas máximas: {EPOCHS}\")\n",
    "print(f\"Batch size: {BATCH_SIZE}\")\n",
    "print(f\"Tasa de aprendizaje: {LEARNING_RATE}\")\n",
    "print(\"=\"*60)"
   ]
  },
  {
   "cell_type": "markdown",
   "id": "2d6ffb44",
   "metadata": {},
   "source": [
    "## 1. Importación de Librerías y Funciones Helper"
   ]
  },
  {
   "cell_type": "code",
   "execution_count": 2,
   "id": "54f08898",
   "metadata": {},
   "outputs": [
    {
     "name": "stderr",
     "output_type": "stream",
     "text": [
      "2025-09-28 16:57:34.702017: I tensorflow/core/util/port.cc:153] oneDNN custom operations are on. You may see slightly different numerical results due to floating-point round-off errors from different computation orders. To turn them off, set the environment variable `TF_ENABLE_ONEDNN_OPTS=0`.\n",
      "2025-09-28 16:57:34.740120: I tensorflow/core/platform/cpu_feature_guard.cc:210] This TensorFlow binary is optimized to use available CPU instructions in performance-critical operations.\n",
      "To enable the following instructions: AVX2 AVX_VNNI FMA, in other operations, rebuild TensorFlow with the appropriate compiler flags.\n",
      "2025-09-28 16:57:35.658201: I tensorflow/core/util/port.cc:153] oneDNN custom operations are on. You may see slightly different numerical results due to floating-point round-off errors from different computation orders. To turn them off, set the environment variable `TF_ENABLE_ONEDNN_OPTS=0`.\n"
     ]
    },
    {
     "name": "stdout",
     "output_type": "stream",
     "text": [
      "GPU configurada: 1 GPU(s) disponibles\n",
      "Ambiente configurado. GPU disponible: True\n"
     ]
    }
   ],
   "source": [
    "# Librerías estándar\n",
    "import os\n",
    "import json\n",
    "import numpy as np\n",
    "import pandas as pd\n",
    "import matplotlib.pyplot as plt\n",
    "from datetime import datetime\n",
    "\n",
    "# Librerías de machine learning\n",
    "import tensorflow as tf\n",
    "from tensorflow.keras.models import Sequential\n",
    "from tensorflow.keras.layers import Dense, Dropout, Embedding, GlobalAveragePooling1D\n",
    "from tensorflow.keras.optimizers import Adam\n",
    "\n",
    "# Importar funciones helper\n",
    "from helper import (\n",
    "    DataLoader, ModelTrainer, ResultsManager, Visualizer,\n",
    "    evaluate_model, get_gpu_info, setup_experiment_environment\n",
    ")\n",
    "\n",
    "# Configurar ambiente del experimento\n",
    "gpu_info = setup_experiment_environment(RANDOM_SEED)\n",
    "print(f\"Ambiente configurado. GPU disponible: {gpu_info['gpu_available']}\")"
   ]
  },
  {
   "cell_type": "markdown",
   "id": "1cbf34a3",
   "metadata": {},
   "source": [
    "## 2. Carga y Preprocesamiento de Datos"
   ]
  },
  {
   "cell_type": "code",
   "execution_count": 3,
   "id": "d7e63e62",
   "metadata": {},
   "outputs": [
    {
     "name": "stdout",
     "output_type": "stream",
     "text": [
      "Cargando datasets...\n",
      "Datos cargados exitosamente: train.csv\n",
      "Datos cargados exitosamente: validation.csv\n",
      "Datos cargados exitosamente: test.csv\n",
      "\n",
      "Datos originales cargados:\n",
      "Entrenamiento: 1200000 muestras\n",
      "Validación: 30000 muestras\n",
      "Prueba: 30000 muestras\n",
      "\n",
      "Análisis de idiomas en el dataset:\n",
      "Distribución de idiomas (entrenamiento):\n",
      "  de: 200,000 muestras (16.7%)\n",
      "  en: 200,000 muestras (16.7%)\n",
      "  es: 200,000 muestras (16.7%)\n",
      "  fr: 200,000 muestras (16.7%)\n",
      "  ja: 200,000 muestras (16.7%)\n",
      "  zh: 200,000 muestras (16.7%)\n",
      "\n",
      "🔍 Filtrando por idioma: en\n",
      "\n",
      "Datos después del filtrado por idioma 'en':\n",
      "Entrenamiento: 200000 muestras\n",
      "Validación: 5000 muestras\n",
      "Prueba: 5000 muestras\n",
      "\n",
      "Distribución de clases (conjunto final):\n",
      "  1 estrella(s): 40,000 muestras (20.0%)\n",
      "  2 estrella(s): 40,000 muestras (20.0%)\n",
      "  3 estrella(s): 40,000 muestras (20.0%)\n",
      "  4 estrella(s): 40,000 muestras (20.0%)\n",
      "  5 estrella(s): 40,000 muestras (20.0%)\n",
      "\n",
      "Ejemplos de datos del conjunto final:\n",
      "1. [en] 1⭐ - Arrived broken. Manufacturer defect. Two of the legs of the base were not completely formed, so ther...\n",
      "2. [en] 1⭐ - the cabinet dot were all detached from backing... got me...\n",
      "3. [en] 1⭐ - I received my first order of this product and it was broke so I ordered it again. The second one was...\n"
     ]
    }
   ],
   "source": [
    "# Inicializar el cargador de datos\n",
    "data_loader = DataLoader(data_dir=DATA_DIR)\n",
    "\n",
    "# Cargar los datasets\n",
    "print(\"Cargando datasets...\")\n",
    "train_df, val_df, test_df = data_loader.load_all_data()\n",
    "\n",
    "print(f\"\\nDatos originales cargados:\")\n",
    "print(f\"Entrenamiento: {len(train_df)} muestras\")\n",
    "print(f\"Validación: {len(val_df)} muestras\") \n",
    "print(f\"Prueba: {len(test_df)} muestras\")\n",
    "\n",
    "# Analizar distribución de idiomas\n",
    "print(f\"\\nAnálisis de idiomas en el dataset:\")\n",
    "if LANGUAGE_COLUMN in train_df.columns:\n",
    "    lang_dist_train = train_df[LANGUAGE_COLUMN].value_counts()\n",
    "    print(f\"Distribución de idiomas (entrenamiento):\")\n",
    "    for lang, count in lang_dist_train.items():\n",
    "        percentage = (count / len(train_df)) * 100\n",
    "        print(f\"  {lang}: {count:,} muestras ({percentage:.1f}%)\")\n",
    "    \n",
    "    # Aplicar filtro por idioma si está especificado\n",
    "    if FILTER_LANGUAGE is not None:\n",
    "        if FILTER_LANGUAGE in lang_dist_train.index:\n",
    "            print(f\"\\n🔍 Filtrando por idioma: {FILTER_LANGUAGE}\")\n",
    "            \n",
    "            # Filtrar datasets por idioma\n",
    "            train_df = train_df[train_df[LANGUAGE_COLUMN] == FILTER_LANGUAGE].copy()\n",
    "            val_df = val_df[val_df[LANGUAGE_COLUMN] == FILTER_LANGUAGE].copy()\n",
    "            test_df = test_df[test_df[LANGUAGE_COLUMN] == FILTER_LANGUAGE].copy()\n",
    "            \n",
    "            print(f\"\\nDatos después del filtrado por idioma '{FILTER_LANGUAGE}':\")\n",
    "            print(f\"Entrenamiento: {len(train_df)} muestras\")\n",
    "            print(f\"Validación: {len(val_df)} muestras\")\n",
    "            print(f\"Prueba: {len(test_df)} muestras\")\n",
    "        else:\n",
    "            print(f\"\\n⚠️  Advertencia: Idioma '{FILTER_LANGUAGE}' no encontrado en el dataset.\")\n",
    "            print(f\"Idiomas disponibles: {list(lang_dist_train.index)}\")\n",
    "            print(\"Usando todos los idiomas...\")\n",
    "    else:\n",
    "        print(f\"\\n📊 Usando todos los idiomas disponibles\")\n",
    "else:\n",
    "    print(f\"⚠️  Columna '{LANGUAGE_COLUMN}' no encontrada. Usando todos los datos sin filtrar.\")\n",
    "\n",
    "# Mostrar distribución de clases en el conjunto final\n",
    "print(f\"\\nDistribución de clases (conjunto final):\")\n",
    "class_distribution = train_df[TARGET_COLUMN].value_counts().sort_index()\n",
    "for stars, count in class_distribution.items():\n",
    "    percentage = (count / len(train_df)) * 100\n",
    "    print(f\"  {stars} estrella(s): {count:,} muestras ({percentage:.1f}%)\")\n",
    "\n",
    "# Mostrar ejemplos de datos\n",
    "print(f\"\\nEjemplos de datos del conjunto final:\")\n",
    "for i in range(min(3, len(train_df))):\n",
    "    lang = train_df[LANGUAGE_COLUMN].iloc[i] if LANGUAGE_COLUMN in train_df.columns else \"N/A\"\n",
    "    text = train_df[TEXT_COLUMN].iloc[i][:100]\n",
    "    stars = train_df[TARGET_COLUMN].iloc[i]\n",
    "    print(f\"{i+1}. [{lang}] {stars}⭐ - {text}...\")"
   ]
  },
  {
   "cell_type": "markdown",
   "id": "5073b8ca",
   "metadata": {},
   "source": [
    "### 💡 Configuraciones Rápidas por Idioma\n",
    "\n",
    "Para cambiar el idioma del experimento, modifica la variable `FILTER_LANGUAGE` en la primera celda:\n",
    "\n",
    "```python\n",
    "# Opciones disponibles:\n",
    "FILTER_LANGUAGE = None     # Todos los idiomas (por defecto)\n",
    "FILTER_LANGUAGE = \"en\"     # Solo inglés \n",
    "FILTER_LANGUAGE = \"es\"     # Solo español\n",
    "FILTER_LANGUAGE = \"de\"     # Solo alemán\n",
    "FILTER_LANGUAGE = \"fr\"     # Solo francés\n",
    "FILTER_LANGUAGE = \"ja\"     # Solo japonés\n",
    "```\n",
    "\n",
    "**Recomendaciones:**\n",
    "- **`\"en\"` (Inglés)**: Mayor cantidad de datos, vocabulario más rico\n",
    "- **`\"es\"` (Español)**: Bueno para comparar rendimiento en español\n",
    "- **`None` (Todos)**: Para experimentos multiidioma\n",
    "- **Otros idiomas**: Para análisis específicos por idioma"
   ]
  },
  {
   "cell_type": "code",
   "execution_count": 4,
   "id": "da98c311",
   "metadata": {},
   "outputs": [
    {
     "name": "stdout",
     "output_type": "stream",
     "text": [
      "Configuración actual: en\n",
      "💡 Tip: Para inglés únicamente (mejor rendimiento), descomenta: FILTER_LANGUAGE = 'en'\n"
     ]
    }
   ],
   "source": [
    "# 🚀 CONFIGURACIÓN RÁPIDA - Descomenta una línea para cambiar idioma\n",
    "# FILTER_LANGUAGE = None      # ✅ Por defecto: todos los idiomas\n",
    "# FILTER_LANGUAGE = \"en\"      # 🇺🇸 Solo inglés (recomendado para mejor rendimiento)\n",
    "# FILTER_LANGUAGE = \"es\"      # 🇪🇸 Solo español \n",
    "# FILTER_LANGUAGE = \"de\"      # 🇩🇪 Solo alemán\n",
    "# FILTER_LANGUAGE = \"fr\"      # 🇫🇷 Solo francés\n",
    "# FILTER_LANGUAGE = \"ja\"      # 🇯🇵 Solo japonés\n",
    "\n",
    "# Si cambias el idioma aquí, ejecuta esta celda y vuelve a ejecutar desde la carga de datos\n",
    "print(f\"Configuración actual: {FILTER_LANGUAGE if FILTER_LANGUAGE else 'Todos los idiomas'}\")\n",
    "print(\"💡 Tip: Para inglés únicamente (mejor rendimiento), descomenta: FILTER_LANGUAGE = 'en'\")"
   ]
  },
  {
   "cell_type": "markdown",
   "id": "26214504",
   "metadata": {},
   "source": [
    "## 3. Preprocesamiento de Texto"
   ]
  },
  {
   "cell_type": "code",
   "execution_count": 5,
   "id": "ec025b32",
   "metadata": {},
   "outputs": [
    {
     "name": "stdout",
     "output_type": "stream",
     "text": [
      "Preprocesando datos de texto...\n",
      "Preprocesando datos de texto...\n",
      "Tamaño del vocabulario: 47436\n",
      "Número de clases: 5\n",
      "Longitud de secuencia: 250\n",
      "Muestras de entrenamiento: 200000\n",
      "Muestras de validación: 5000\n",
      "Muestras de prueba: 5000\n",
      "\n",
      "Datos preprocesados:\n",
      "Tamaño del vocabulario: 47437\n",
      "Número de clases: 5\n",
      "Forma de X_train: (200000, 250)\n",
      "Forma de y_train: (200000, 5)\n"
     ]
    }
   ],
   "source": [
    "# Preprocesar los datos de texto\n",
    "print(\"Preprocesando datos de texto...\")\n",
    "processed_data = data_loader.preprocess_text_data(\n",
    "    train_df=train_df,\n",
    "    val_df=val_df, \n",
    "    test_df=test_df,\n",
    "    text_column=TEXT_COLUMN,\n",
    "    target_column=TARGET_COLUMN,\n",
    "    max_words=MAX_WORDS,\n",
    "    max_length=MAX_LENGTH\n",
    ")\n",
    "\n",
    "# Extraer datos preprocesados\n",
    "X_train, y_train = processed_data['X_train'], processed_data['y_train']\n",
    "X_val, y_val = processed_data['X_val'], processed_data['y_val']\n",
    "X_test, y_test = processed_data['X_test'], processed_data['y_test']\n",
    "num_classes = processed_data['num_classes']\n",
    "vocab_size = processed_data['vocab_size']\n",
    "\n",
    "print(f\"\\nDatos preprocesados:\")\n",
    "print(f\"Tamaño del vocabulario: {vocab_size}\")\n",
    "print(f\"Número de clases: {num_classes}\")\n",
    "print(f\"Forma de X_train: {X_train.shape}\")\n",
    "print(f\"Forma de y_train: {y_train.shape}\")\n",
    "\n",
    "# Obtener nombres de clases para evaluación\n",
    "class_names = [str(i) for i in data_loader.label_encoder.classes_]"
   ]
  },
  {
   "cell_type": "markdown",
   "id": "50a4f8d1",
   "metadata": {},
   "source": [
    "## 4. Construcción del Modelo MLP"
   ]
  },
  {
   "cell_type": "code",
   "execution_count": 6,
   "id": "f4cf91a0",
   "metadata": {},
   "outputs": [
    {
     "name": "stdout",
     "output_type": "stream",
     "text": [
      "Creando modelo MLP...\n"
     ]
    },
    {
     "name": "stderr",
     "output_type": "stream",
     "text": [
      "WARNING: All log messages before absl::InitializeLog() is called are written to STDERR\n",
      "I0000 00:00:1759096666.847287   68645 gpu_device.cc:2020] Created device /job:localhost/replica:0/task:0/device:GPU:0 with 9495 MB memory:  -> device: 0, name: NVIDIA GeForce RTX 3060, pci bus id: 0000:01:00.0, compute capability: 8.6\n"
     ]
    },
    {
     "name": "stdout",
     "output_type": "stream",
     "text": [
      "\n",
      "Arquitectura del modelo:\n"
     ]
    },
    {
     "data": {
      "text/html": [
       "<pre style=\"white-space:pre;overflow-x:auto;line-height:normal;font-family:Menlo,'DejaVu Sans Mono',consolas,'Courier New',monospace\"><span style=\"font-weight: bold\">Model: \"sequential\"</span>\n",
       "</pre>\n"
      ],
      "text/plain": [
       "\u001b[1mModel: \"sequential\"\u001b[0m\n"
      ]
     },
     "metadata": {},
     "output_type": "display_data"
    },
    {
     "data": {
      "text/html": [
       "<pre style=\"white-space:pre;overflow-x:auto;line-height:normal;font-family:Menlo,'DejaVu Sans Mono',consolas,'Courier New',monospace\">┏━━━━━━━━━━━━━━━━━━━━━━━━━━━━━━━━━┳━━━━━━━━━━━━━━━━━━━━━━━━┳━━━━━━━━━━━━━━━┓\n",
       "┃<span style=\"font-weight: bold\"> Layer (type)                    </span>┃<span style=\"font-weight: bold\"> Output Shape           </span>┃<span style=\"font-weight: bold\">       Param # </span>┃\n",
       "┡━━━━━━━━━━━━━━━━━━━━━━━━━━━━━━━━━╇━━━━━━━━━━━━━━━━━━━━━━━━╇━━━━━━━━━━━━━━━┩\n",
       "│ embedding_layer (<span style=\"color: #0087ff; text-decoration-color: #0087ff\">Embedding</span>)     │ (<span style=\"color: #00d7ff; text-decoration-color: #00d7ff\">None</span>, <span style=\"color: #00af00; text-decoration-color: #00af00\">250</span>, <span style=\"color: #00af00; text-decoration-color: #00af00\">300</span>)       │    <span style=\"color: #00af00; text-decoration-color: #00af00\">14,231,100</span> │\n",
       "├─────────────────────────────────┼────────────────────────┼───────────────┤\n",
       "│ global_avg_pooling              │ (<span style=\"color: #00d7ff; text-decoration-color: #00d7ff\">None</span>, <span style=\"color: #00af00; text-decoration-color: #00af00\">300</span>)            │             <span style=\"color: #00af00; text-decoration-color: #00af00\">0</span> │\n",
       "│ (<span style=\"color: #0087ff; text-decoration-color: #0087ff\">GlobalAveragePooling1D</span>)        │                        │               │\n",
       "├─────────────────────────────────┼────────────────────────┼───────────────┤\n",
       "│ dense_layer_1 (<span style=\"color: #0087ff; text-decoration-color: #0087ff\">Dense</span>)           │ (<span style=\"color: #00d7ff; text-decoration-color: #00d7ff\">None</span>, <span style=\"color: #00af00; text-decoration-color: #00af00\">256</span>)            │        <span style=\"color: #00af00; text-decoration-color: #00af00\">77,056</span> │\n",
       "├─────────────────────────────────┼────────────────────────┼───────────────┤\n",
       "│ dropout_1 (<span style=\"color: #0087ff; text-decoration-color: #0087ff\">Dropout</span>)             │ (<span style=\"color: #00d7ff; text-decoration-color: #00d7ff\">None</span>, <span style=\"color: #00af00; text-decoration-color: #00af00\">256</span>)            │             <span style=\"color: #00af00; text-decoration-color: #00af00\">0</span> │\n",
       "├─────────────────────────────────┼────────────────────────┼───────────────┤\n",
       "│ dense_layer_2 (<span style=\"color: #0087ff; text-decoration-color: #0087ff\">Dense</span>)           │ (<span style=\"color: #00d7ff; text-decoration-color: #00d7ff\">None</span>, <span style=\"color: #00af00; text-decoration-color: #00af00\">128</span>)            │        <span style=\"color: #00af00; text-decoration-color: #00af00\">32,896</span> │\n",
       "├─────────────────────────────────┼────────────────────────┼───────────────┤\n",
       "│ dropout_2 (<span style=\"color: #0087ff; text-decoration-color: #0087ff\">Dropout</span>)             │ (<span style=\"color: #00d7ff; text-decoration-color: #00d7ff\">None</span>, <span style=\"color: #00af00; text-decoration-color: #00af00\">128</span>)            │             <span style=\"color: #00af00; text-decoration-color: #00af00\">0</span> │\n",
       "├─────────────────────────────────┼────────────────────────┼───────────────┤\n",
       "│ dense_layer_3 (<span style=\"color: #0087ff; text-decoration-color: #0087ff\">Dense</span>)           │ (<span style=\"color: #00d7ff; text-decoration-color: #00d7ff\">None</span>, <span style=\"color: #00af00; text-decoration-color: #00af00\">64</span>)             │         <span style=\"color: #00af00; text-decoration-color: #00af00\">8,256</span> │\n",
       "├─────────────────────────────────┼────────────────────────┼───────────────┤\n",
       "│ dropout_3 (<span style=\"color: #0087ff; text-decoration-color: #0087ff\">Dropout</span>)             │ (<span style=\"color: #00d7ff; text-decoration-color: #00d7ff\">None</span>, <span style=\"color: #00af00; text-decoration-color: #00af00\">64</span>)             │             <span style=\"color: #00af00; text-decoration-color: #00af00\">0</span> │\n",
       "├─────────────────────────────────┼────────────────────────┼───────────────┤\n",
       "│ output_layer (<span style=\"color: #0087ff; text-decoration-color: #0087ff\">Dense</span>)            │ (<span style=\"color: #00d7ff; text-decoration-color: #00d7ff\">None</span>, <span style=\"color: #00af00; text-decoration-color: #00af00\">5</span>)              │           <span style=\"color: #00af00; text-decoration-color: #00af00\">325</span> │\n",
       "└─────────────────────────────────┴────────────────────────┴───────────────┘\n",
       "</pre>\n"
      ],
      "text/plain": [
       "┏━━━━━━━━━━━━━━━━━━━━━━━━━━━━━━━━━┳━━━━━━━━━━━━━━━━━━━━━━━━┳━━━━━━━━━━━━━━━┓\n",
       "┃\u001b[1m \u001b[0m\u001b[1mLayer (type)                   \u001b[0m\u001b[1m \u001b[0m┃\u001b[1m \u001b[0m\u001b[1mOutput Shape          \u001b[0m\u001b[1m \u001b[0m┃\u001b[1m \u001b[0m\u001b[1m      Param #\u001b[0m\u001b[1m \u001b[0m┃\n",
       "┡━━━━━━━━━━━━━━━━━━━━━━━━━━━━━━━━━╇━━━━━━━━━━━━━━━━━━━━━━━━╇━━━━━━━━━━━━━━━┩\n",
       "│ embedding_layer (\u001b[38;5;33mEmbedding\u001b[0m)     │ (\u001b[38;5;45mNone\u001b[0m, \u001b[38;5;34m250\u001b[0m, \u001b[38;5;34m300\u001b[0m)       │    \u001b[38;5;34m14,231,100\u001b[0m │\n",
       "├─────────────────────────────────┼────────────────────────┼───────────────┤\n",
       "│ global_avg_pooling              │ (\u001b[38;5;45mNone\u001b[0m, \u001b[38;5;34m300\u001b[0m)            │             \u001b[38;5;34m0\u001b[0m │\n",
       "│ (\u001b[38;5;33mGlobalAveragePooling1D\u001b[0m)        │                        │               │\n",
       "├─────────────────────────────────┼────────────────────────┼───────────────┤\n",
       "│ dense_layer_1 (\u001b[38;5;33mDense\u001b[0m)           │ (\u001b[38;5;45mNone\u001b[0m, \u001b[38;5;34m256\u001b[0m)            │        \u001b[38;5;34m77,056\u001b[0m │\n",
       "├─────────────────────────────────┼────────────────────────┼───────────────┤\n",
       "│ dropout_1 (\u001b[38;5;33mDropout\u001b[0m)             │ (\u001b[38;5;45mNone\u001b[0m, \u001b[38;5;34m256\u001b[0m)            │             \u001b[38;5;34m0\u001b[0m │\n",
       "├─────────────────────────────────┼────────────────────────┼───────────────┤\n",
       "│ dense_layer_2 (\u001b[38;5;33mDense\u001b[0m)           │ (\u001b[38;5;45mNone\u001b[0m, \u001b[38;5;34m128\u001b[0m)            │        \u001b[38;5;34m32,896\u001b[0m │\n",
       "├─────────────────────────────────┼────────────────────────┼───────────────┤\n",
       "│ dropout_2 (\u001b[38;5;33mDropout\u001b[0m)             │ (\u001b[38;5;45mNone\u001b[0m, \u001b[38;5;34m128\u001b[0m)            │             \u001b[38;5;34m0\u001b[0m │\n",
       "├─────────────────────────────────┼────────────────────────┼───────────────┤\n",
       "│ dense_layer_3 (\u001b[38;5;33mDense\u001b[0m)           │ (\u001b[38;5;45mNone\u001b[0m, \u001b[38;5;34m64\u001b[0m)             │         \u001b[38;5;34m8,256\u001b[0m │\n",
       "├─────────────────────────────────┼────────────────────────┼───────────────┤\n",
       "│ dropout_3 (\u001b[38;5;33mDropout\u001b[0m)             │ (\u001b[38;5;45mNone\u001b[0m, \u001b[38;5;34m64\u001b[0m)             │             \u001b[38;5;34m0\u001b[0m │\n",
       "├─────────────────────────────────┼────────────────────────┼───────────────┤\n",
       "│ output_layer (\u001b[38;5;33mDense\u001b[0m)            │ (\u001b[38;5;45mNone\u001b[0m, \u001b[38;5;34m5\u001b[0m)              │           \u001b[38;5;34m325\u001b[0m │\n",
       "└─────────────────────────────────┴────────────────────────┴───────────────┘\n"
      ]
     },
     "metadata": {},
     "output_type": "display_data"
    },
    {
     "data": {
      "text/html": [
       "<pre style=\"white-space:pre;overflow-x:auto;line-height:normal;font-family:Menlo,'DejaVu Sans Mono',consolas,'Courier New',monospace\"><span style=\"font-weight: bold\"> Total params: </span><span style=\"color: #00af00; text-decoration-color: #00af00\">14,349,633</span> (54.74 MB)\n",
       "</pre>\n"
      ],
      "text/plain": [
       "\u001b[1m Total params: \u001b[0m\u001b[38;5;34m14,349,633\u001b[0m (54.74 MB)\n"
      ]
     },
     "metadata": {},
     "output_type": "display_data"
    },
    {
     "data": {
      "text/html": [
       "<pre style=\"white-space:pre;overflow-x:auto;line-height:normal;font-family:Menlo,'DejaVu Sans Mono',consolas,'Courier New',monospace\"><span style=\"font-weight: bold\"> Trainable params: </span><span style=\"color: #00af00; text-decoration-color: #00af00\">14,349,633</span> (54.74 MB)\n",
       "</pre>\n"
      ],
      "text/plain": [
       "\u001b[1m Trainable params: \u001b[0m\u001b[38;5;34m14,349,633\u001b[0m (54.74 MB)\n"
      ]
     },
     "metadata": {},
     "output_type": "display_data"
    },
    {
     "data": {
      "text/html": [
       "<pre style=\"white-space:pre;overflow-x:auto;line-height:normal;font-family:Menlo,'DejaVu Sans Mono',consolas,'Courier New',monospace\"><span style=\"font-weight: bold\"> Non-trainable params: </span><span style=\"color: #00af00; text-decoration-color: #00af00\">0</span> (0.00 B)\n",
       "</pre>\n"
      ],
      "text/plain": [
       "\u001b[1m Non-trainable params: \u001b[0m\u001b[38;5;34m0\u001b[0m (0.00 B)\n"
      ]
     },
     "metadata": {},
     "output_type": "display_data"
    },
    {
     "name": "stdout",
     "output_type": "stream",
     "text": [
      "\n",
      "Total de parámetros: 14,349,633\n"
     ]
    }
   ],
   "source": [
    "def create_mlp_model(vocab_size, embedding_dim, max_length, hidden_layers, \n",
    "                     num_classes, dropout_rate, activation, output_activation):\n",
    "    \"\"\"\n",
    "    Crear un modelo de Perceptrón Multicapa para clasificación de texto.\n",
    "    \n",
    "    Args:\n",
    "        vocab_size: Tamaño del vocabulario\n",
    "        embedding_dim: Dimensión del embedding\n",
    "        max_length: Longitud máxima de secuencia\n",
    "        hidden_layers: Lista con el número de neuronas en cada capa oculta\n",
    "        num_classes: Número de clases de salida\n",
    "        dropout_rate: Tasa de dropout\n",
    "        activation: Función de activación para capas ocultas\n",
    "        output_activation: Función de activación para la capa de salida\n",
    "    \n",
    "    Returns:\n",
    "        tf.keras.Model: Modelo compilado\n",
    "    \"\"\"\n",
    "    model = Sequential()\n",
    "    \n",
    "    # Capa de embedding (sin input_length que está deprecado)\n",
    "    model.add(Embedding(input_dim=vocab_size, \n",
    "                       output_dim=embedding_dim,\n",
    "                       name=\"embedding_layer\"))\n",
    "    \n",
    "    # Pooling global para reducir dimensionalidad\n",
    "    model.add(GlobalAveragePooling1D(name=\"global_avg_pooling\"))\n",
    "    \n",
    "    # Capas ocultas del MLP\n",
    "    for i, units in enumerate(hidden_layers):\n",
    "        model.add(Dense(units=units, \n",
    "                       activation=activation, \n",
    "                       name=f\"dense_layer_{i+1}\"))\n",
    "        model.add(Dropout(rate=dropout_rate, \n",
    "                         name=f\"dropout_{i+1}\"))\n",
    "    \n",
    "    # Capa de salida\n",
    "    model.add(Dense(units=num_classes, \n",
    "                   activation=output_activation, \n",
    "                   name=\"output_layer\"))\n",
    "    \n",
    "    return model\n",
    "\n",
    "# Crear el modelo\n",
    "print(\"Creando modelo MLP...\")\n",
    "model = create_mlp_model(\n",
    "    vocab_size=vocab_size,\n",
    "    embedding_dim=EMBEDDING_DIM,\n",
    "    max_length=MAX_LENGTH,\n",
    "    hidden_layers=HIDDEN_LAYERS,\n",
    "    num_classes=num_classes,\n",
    "    dropout_rate=DROPOUT_RATE,\n",
    "    activation=ACTIVATION,\n",
    "    output_activation=OUTPUT_ACTIVATION\n",
    ")\n",
    "\n",
    "# Compilar el modelo\n",
    "optimizer = Adam(learning_rate=LEARNING_RATE)\n",
    "model.compile(\n",
    "    optimizer=optimizer,\n",
    "    loss=LOSS_FUNCTION,\n",
    "    metrics=METRICS\n",
    ")\n",
    "\n",
    "# Construir el modelo con la forma de entrada específica\n",
    "model.build(input_shape=(None, MAX_LENGTH))\n",
    "\n",
    "# Mostrar arquitectura del modelo\n",
    "print(\"\\nArquitectura del modelo:\")\n",
    "model.summary()\n",
    "\n",
    "# Contar parámetros\n",
    "total_params = model.count_params()\n",
    "print(f\"\\nTotal de parámetros: {total_params:,}\")"
   ]
  },
  {
   "cell_type": "markdown",
   "id": "1e33caa8",
   "metadata": {},
   "source": [
    "## 5. Entrenamiento del Modelo"
   ]
  },
  {
   "cell_type": "code",
   "execution_count": 7,
   "id": "071b8782",
   "metadata": {},
   "outputs": [
    {
     "name": "stdout",
     "output_type": "stream",
     "text": [
      "Iniciando entrenamiento...\n",
      "Entrenando MLP_20250928_165747...\n",
      "Parámetros del modelo: 14,349,633\n",
      "Epoch 1/50\n"
     ]
    },
    {
     "name": "stderr",
     "output_type": "stream",
     "text": [
      "2025-09-28 16:57:48.092797: I external/local_xla/xla/service/service.cc:163] XLA service 0x7fa530006b90 initialized for platform CUDA (this does not guarantee that XLA will be used). Devices:\n",
      "2025-09-28 16:57:48.092817: I external/local_xla/xla/service/service.cc:171]   StreamExecutor device (0): NVIDIA GeForce RTX 3060, Compute Capability 8.6\n",
      "2025-09-28 16:57:48.114259: I tensorflow/compiler/mlir/tensorflow/utils/dump_mlir_util.cc:269] disabling MLIR crash reproducer, set env var `MLIR_CRASH_REPRODUCER_DIRECTORY` to enable.\n",
      "2025-09-28 16:57:48.249764: I external/local_xla/xla/stream_executor/cuda/cuda_dnn.cc:473] Loaded cuDNN version 91300\n",
      "2025-09-28 16:57:48.366547: I external/local_xla/xla/service/gpu/autotuning/dot_search_space.cc:208] All configs were filtered out because none of them sufficiently match the hints. Maybe the hints set does not contain a good representative set of valid configs? Working around this by using the full hints set instead.\n",
      "2025-09-28 16:57:48.366615: I external/local_xla/xla/service/gpu/autotuning/dot_search_space.cc:208] All configs were filtered out because none of them sufficiently match the hints. Maybe the hints set does not contain a good representative set of valid configs? Working around this by using the full hints set instead.\n",
      "2025-09-28 16:57:49.372425: I external/local_xla/xla/stream_executor/cuda/subprocess_compilation.cc:346] ptxas warning : Registers are spilled to local memory in function 'gemm_fusion_dot_1600', 4 bytes spill stores, 4 bytes spill loads\n",
      "\n",
      "2025-09-28 16:57:49.485149: I external/local_xla/xla/stream_executor/cuda/subprocess_compilation.cc:346] ptxas warning : Registers are spilled to local memory in function 'gemm_fusion_dot_1751', 1292 bytes spill stores, 1292 bytes spill loads\n",
      "\n",
      "2025-09-28 16:57:49.945444: I external/local_xla/xla/stream_executor/cuda/subprocess_compilation.cc:346] ptxas warning : Registers are spilled to local memory in function 'gemm_fusion_dot_1524', 124 bytes spill stores, 124 bytes spill loads\n",
      "\n",
      "2025-09-28 16:57:50.033747: I external/local_xla/xla/stream_executor/cuda/subprocess_compilation.cc:346] ptxas warning : Registers are spilled to local memory in function 'gemm_fusion_dot_1646', 684 bytes spill stores, 684 bytes spill loads\n",
      "\n"
     ]
    },
    {
     "name": "stdout",
     "output_type": "stream",
     "text": [
      "\u001b[1m 10/391\u001b[0m \u001b[37m━━━━━━━━━━━━━━━━━━━━\u001b[0m \u001b[1m7s\u001b[0m 19ms/step - accuracy: 0.2086 - loss: 1.6103"
     ]
    },
    {
     "name": "stderr",
     "output_type": "stream",
     "text": [
      "I0000 00:00:1759096671.649461   68800 device_compiler.h:196] Compiled cluster using XLA!  This line is logged at most once for the lifetime of the process.\n"
     ]
    },
    {
     "name": "stdout",
     "output_type": "stream",
     "text": [
      "\u001b[1m389/391\u001b[0m \u001b[32m━━━━━━━━━━━━━━━━━━━\u001b[0m\u001b[37m━\u001b[0m \u001b[1m0s\u001b[0m 17ms/step - accuracy: 0.2145 - loss: 1.6055"
     ]
    },
    {
     "name": "stderr",
     "output_type": "stream",
     "text": [
      "2025-09-28 16:57:58.663193: I external/local_xla/xla/service/gpu/autotuning/dot_search_space.cc:208] All configs were filtered out because none of them sufficiently match the hints. Maybe the hints set does not contain a good representative set of valid configs? Working around this by using the full hints set instead.\n",
      "2025-09-28 16:57:58.663268: I external/local_xla/xla/service/gpu/autotuning/dot_search_space.cc:208] All configs were filtered out because none of them sufficiently match the hints. Maybe the hints set does not contain a good representative set of valid configs? Working around this by using the full hints set instead.\n",
      "2025-09-28 16:57:59.341709: I external/local_xla/xla/stream_executor/cuda/subprocess_compilation.cc:346] ptxas warning : Registers are spilled to local memory in function 'gemm_fusion_dot_1524', 580 bytes spill stores, 580 bytes spill loads\n",
      "\n",
      "2025-09-28 16:57:59.594849: I external/local_xla/xla/stream_executor/cuda/subprocess_compilation.cc:346] ptxas warning : Registers are spilled to local memory in function 'gemm_fusion_dot_1600', 4 bytes spill stores, 4 bytes spill loads\n",
      "\n"
     ]
    },
    {
     "name": "stdout",
     "output_type": "stream",
     "text": [
      "\u001b[1m391/391\u001b[0m \u001b[32m━━━━━━━━━━━━━━━━━━━━\u001b[0m\u001b[37m\u001b[0m \u001b[1m0s\u001b[0m 26ms/step - accuracy: 0.2146 - loss: 1.6054"
     ]
    },
    {
     "name": "stderr",
     "output_type": "stream",
     "text": [
      "2025-09-28 16:58:01.829641: I external/local_xla/xla/service/gpu/autotuning/dot_search_space.cc:208] All configs were filtered out because none of them sufficiently match the hints. Maybe the hints set does not contain a good representative set of valid configs? Working around this by using the full hints set instead.\n",
      "2025-09-28 16:58:02.430103: I external/local_xla/xla/stream_executor/cuda/subprocess_compilation.cc:346] ptxas warning : Registers are spilled to local memory in function 'gemm_fusion_dot_106', 116 bytes spill stores, 116 bytes spill loads\n",
      "\n",
      "2025-09-28 16:58:02.984310: I external/local_xla/xla/service/gpu/autotuning/dot_search_space.cc:208] All configs were filtered out because none of them sufficiently match the hints. Maybe the hints set does not contain a good representative set of valid configs? Working around this by using the full hints set instead.\n",
      "2025-09-28 16:58:03.546580: I external/local_xla/xla/stream_executor/cuda/subprocess_compilation.cc:346] ptxas warning : Registers are spilled to local memory in function 'gemm_fusion_dot_106', 8 bytes spill stores, 8 bytes spill loads\n",
      "\n",
      "2025-09-28 16:58:03.561408: I external/local_xla/xla/stream_executor/cuda/subprocess_compilation.cc:346] ptxas warning : Registers are spilled to local memory in function 'gemm_fusion_dot_106', 12 bytes spill stores, 12 bytes spill loads\n",
      "\n",
      "2025-09-28 16:58:03.746417: I external/local_xla/xla/stream_executor/cuda/subprocess_compilation.cc:346] ptxas warning : Registers are spilled to local memory in function 'gemm_fusion_dot_106', 116 bytes spill stores, 116 bytes spill loads\n",
      "\n"
     ]
    },
    {
     "name": "stdout",
     "output_type": "stream",
     "text": [
      "\u001b[1m391/391\u001b[0m \u001b[32m━━━━━━━━━━━━━━━━━━━━\u001b[0m\u001b[37m\u001b[0m \u001b[1m17s\u001b[0m 32ms/step - accuracy: 0.2355 - loss: 1.5905 - val_accuracy: 0.3270 - val_loss: 1.5451 - learning_rate: 0.0010\n",
      "Epoch 2/50\n",
      "\u001b[1m391/391\u001b[0m \u001b[32m━━━━━━━━━━━━━━━━━━━━\u001b[0m\u001b[37m\u001b[0m \u001b[1m7s\u001b[0m 17ms/step - accuracy: 0.3098 - loss: 1.4994 - val_accuracy: 0.3816 - val_loss: 1.3730 - learning_rate: 0.0010\n",
      "Epoch 3/50\n",
      "\u001b[1m391/391\u001b[0m \u001b[32m━━━━━━━━━━━━━━━━━━━━\u001b[0m\u001b[37m\u001b[0m \u001b[1m7s\u001b[0m 18ms/step - accuracy: 0.3858 - loss: 1.3522 - val_accuracy: 0.4180 - val_loss: 1.3014 - learning_rate: 0.0010\n",
      "Epoch 4/50\n",
      "\u001b[1m391/391\u001b[0m \u001b[32m━━━━━━━━━━━━━━━━━━━━\u001b[0m\u001b[37m\u001b[0m \u001b[1m7s\u001b[0m 18ms/step - accuracy: 0.4378 - loss: 1.2605 - val_accuracy: 0.4500 - val_loss: 1.2290 - learning_rate: 0.0010\n",
      "Epoch 5/50\n",
      "\u001b[1m391/391\u001b[0m \u001b[32m━━━━━━━━━━━━━━━━━━━━\u001b[0m\u001b[37m\u001b[0m \u001b[1m7s\u001b[0m 18ms/step - accuracy: 0.4731 - loss: 1.1986 - val_accuracy: 0.4780 - val_loss: 1.1841 - learning_rate: 0.0010\n",
      "Epoch 6/50\n",
      "\u001b[1m391/391\u001b[0m \u001b[32m━━━━━━━━━━━━━━━━━━━━\u001b[0m\u001b[37m\u001b[0m \u001b[1m7s\u001b[0m 18ms/step - accuracy: 0.4868 - loss: 1.1729 - val_accuracy: 0.4822 - val_loss: 1.1702 - learning_rate: 0.0010\n",
      "Epoch 7/50\n",
      "\u001b[1m391/391\u001b[0m \u001b[32m━━━━━━━━━━━━━━━━━━━━\u001b[0m\u001b[37m\u001b[0m \u001b[1m7s\u001b[0m 18ms/step - accuracy: 0.4967 - loss: 1.1498 - val_accuracy: 0.5090 - val_loss: 1.1320 - learning_rate: 0.0010\n",
      "Epoch 8/50\n",
      "\u001b[1m391/391\u001b[0m \u001b[32m━━━━━━━━━━━━━━━━━━━━\u001b[0m\u001b[37m\u001b[0m \u001b[1m7s\u001b[0m 18ms/step - accuracy: 0.5061 - loss: 1.1295 - val_accuracy: 0.5112 - val_loss: 1.1239 - learning_rate: 0.0010\n",
      "Epoch 9/50\n",
      "\u001b[1m391/391\u001b[0m \u001b[32m━━━━━━━━━━━━━━━━━━━━\u001b[0m\u001b[37m\u001b[0m \u001b[1m7s\u001b[0m 18ms/step - accuracy: 0.5091 - loss: 1.1234 - val_accuracy: 0.5094 - val_loss: 1.1228 - learning_rate: 0.0010\n",
      "Epoch 10/50\n",
      "\u001b[1m391/391\u001b[0m \u001b[32m━━━━━━━━━━━━━━━━━━━━\u001b[0m\u001b[37m\u001b[0m \u001b[1m7s\u001b[0m 18ms/step - accuracy: 0.5116 - loss: 1.1139 - val_accuracy: 0.5126 - val_loss: 1.1228 - learning_rate: 0.0010\n",
      "Epoch 11/50\n",
      "\u001b[1m391/391\u001b[0m \u001b[32m━━━━━━━━━━━━━━━━━━━━\u001b[0m\u001b[37m\u001b[0m \u001b[1m7s\u001b[0m 17ms/step - accuracy: 0.5155 - loss: 1.1078 - val_accuracy: 0.5116 - val_loss: 1.1155 - learning_rate: 0.0010\n",
      "Epoch 12/50\n",
      "\u001b[1m391/391\u001b[0m \u001b[32m━━━━━━━━━━━━━━━━━━━━\u001b[0m\u001b[37m\u001b[0m \u001b[1m7s\u001b[0m 17ms/step - accuracy: 0.5190 - loss: 1.0993 - val_accuracy: 0.5182 - val_loss: 1.1156 - learning_rate: 0.0010\n",
      "Epoch 13/50\n",
      "\u001b[1m391/391\u001b[0m \u001b[32m━━━━━━━━━━━━━━━━━━━━\u001b[0m\u001b[37m\u001b[0m \u001b[1m7s\u001b[0m 17ms/step - accuracy: 0.5229 - loss: 1.0897 - val_accuracy: 0.5094 - val_loss: 1.1202 - learning_rate: 0.0010\n",
      "Epoch 14/50\n",
      "\u001b[1m391/391\u001b[0m \u001b[32m━━━━━━━━━━━━━━━━━━━━\u001b[0m\u001b[37m\u001b[0m \u001b[1m6s\u001b[0m 16ms/step - accuracy: 0.5259 - loss: 1.0858 - val_accuracy: 0.5000 - val_loss: 1.1372 - learning_rate: 0.0010\n",
      "Epoch 15/50\n",
      "\u001b[1m391/391\u001b[0m \u001b[32m━━━━━━━━━━━━━━━━━━━━\u001b[0m\u001b[37m\u001b[0m \u001b[1m7s\u001b[0m 17ms/step - accuracy: 0.5327 - loss: 1.0713 - val_accuracy: 0.5176 - val_loss: 1.1069 - learning_rate: 0.0010\n",
      "Epoch 16/50\n",
      "\u001b[1m391/391\u001b[0m \u001b[32m━━━━━━━━━━━━━━━━━━━━\u001b[0m\u001b[37m\u001b[0m \u001b[1m7s\u001b[0m 17ms/step - accuracy: 0.5351 - loss: 1.0677 - val_accuracy: 0.5214 - val_loss: 1.1057 - learning_rate: 0.0010\n",
      "Epoch 17/50\n",
      "\u001b[1m391/391\u001b[0m \u001b[32m━━━━━━━━━━━━━━━━━━━━\u001b[0m\u001b[37m\u001b[0m \u001b[1m7s\u001b[0m 17ms/step - accuracy: 0.5364 - loss: 1.0646 - val_accuracy: 0.4984 - val_loss: 1.1317 - learning_rate: 0.0010\n",
      "Epoch 18/50\n",
      "\u001b[1m391/391\u001b[0m \u001b[32m━━━━━━━━━━━━━━━━━━━━\u001b[0m\u001b[37m\u001b[0m \u001b[1m6s\u001b[0m 16ms/step - accuracy: 0.5422 - loss: 1.0535 - val_accuracy: 0.5034 - val_loss: 1.1417 - learning_rate: 0.0010\n",
      "Epoch 19/50\n",
      "\u001b[1m391/391\u001b[0m \u001b[32m━━━━━━━━━━━━━━━━━━━━\u001b[0m\u001b[37m\u001b[0m \u001b[1m7s\u001b[0m 17ms/step - accuracy: 0.5460 - loss: 1.0474 - val_accuracy: 0.4992 - val_loss: 1.1625 - learning_rate: 0.0010\n",
      "Epoch 20/50\n",
      "\u001b[1m391/391\u001b[0m \u001b[32m━━━━━━━━━━━━━━━━━━━━\u001b[0m\u001b[37m\u001b[0m \u001b[1m7s\u001b[0m 17ms/step - accuracy: 0.5436 - loss: 1.0493 - val_accuracy: 0.5242 - val_loss: 1.1094 - learning_rate: 0.0010\n",
      "Epoch 21/50\n",
      "\u001b[1m388/391\u001b[0m \u001b[32m━━━━━━━━━━━━━━━━━━━\u001b[0m\u001b[37m━\u001b[0m \u001b[1m0s\u001b[0m 17ms/step - accuracy: 0.5489 - loss: 1.0383\n",
      "Epoch 21: ReduceLROnPlateau reducing learning rate to 0.0005000000237487257.\n",
      "\u001b[1m391/391\u001b[0m \u001b[32m━━━━━━━━━━━━━━━━━━━━\u001b[0m\u001b[37m\u001b[0m \u001b[1m7s\u001b[0m 17ms/step - accuracy: 0.5486 - loss: 1.0402 - val_accuracy: 0.4940 - val_loss: 1.1844 - learning_rate: 0.0010\n",
      "Epoch 22/50\n",
      "\u001b[1m391/391\u001b[0m \u001b[32m━━━━━━━━━━━━━━━━━━━━\u001b[0m\u001b[37m\u001b[0m \u001b[1m7s\u001b[0m 17ms/step - accuracy: 0.5613 - loss: 1.0143 - val_accuracy: 0.4984 - val_loss: 1.1643 - learning_rate: 5.0000e-04\n",
      "Epoch 23/50\n",
      "\u001b[1m391/391\u001b[0m \u001b[32m━━━━━━━━━━━━━━━━━━━━\u001b[0m\u001b[37m\u001b[0m \u001b[1m6s\u001b[0m 16ms/step - accuracy: 0.5626 - loss: 1.0108 - val_accuracy: 0.5032 - val_loss: 1.1799 - learning_rate: 5.0000e-04\n",
      "Epoch 24/50\n",
      "\u001b[1m391/391\u001b[0m \u001b[32m━━━━━━━━━━━━━━━━━━━━\u001b[0m\u001b[37m\u001b[0m \u001b[1m7s\u001b[0m 17ms/step - accuracy: 0.5679 - loss: 1.0006 - val_accuracy: 0.5052 - val_loss: 1.1475 - learning_rate: 5.0000e-04\n",
      "Epoch 25/50\n",
      "\u001b[1m391/391\u001b[0m \u001b[32m━━━━━━━━━━━━━━━━━━━━\u001b[0m\u001b[37m\u001b[0m \u001b[1m7s\u001b[0m 17ms/step - accuracy: 0.5689 - loss: 0.9982 - val_accuracy: 0.5038 - val_loss: 1.1637 - learning_rate: 5.0000e-04\n",
      "Epoch 26/50\n",
      "\u001b[1m388/391\u001b[0m \u001b[32m━━━━━━━━━━━━━━━━━━━\u001b[0m\u001b[37m━\u001b[0m \u001b[1m0s\u001b[0m 16ms/step - accuracy: 0.5719 - loss: 0.9944\n",
      "Epoch 26: ReduceLROnPlateau reducing learning rate to 0.0002500000118743628.\n",
      "\u001b[1m391/391\u001b[0m \u001b[32m━━━━━━━━━━━━━━━━━━━━\u001b[0m\u001b[37m\u001b[0m \u001b[1m7s\u001b[0m 17ms/step - accuracy: 0.5707 - loss: 0.9960 - val_accuracy: 0.5116 - val_loss: 1.1711 - learning_rate: 5.0000e-04\n",
      "Epoch 26: early stopping\n",
      "Restoring model weights from the end of the best epoch: 16.\n"
     ]
    },
    {
     "name": "stderr",
     "output_type": "stream",
     "text": [
      "WARNING:absl:You are saving your model as an HDF5 file via `model.save()` or `keras.saving.save_model(model)`. This file format is considered legacy. We recommend using instead the native Keras format, e.g. `model.save('my_model.keras')` or `keras.saving.save_model(model, 'my_model.keras')`. \n"
     ]
    },
    {
     "name": "stdout",
     "output_type": "stream",
     "text": [
      "Modelo guardado en: models/MLP_20250928_165747.h5\n",
      "\n",
      "Entrenamiento completado:\n",
      "Épocas entrenadas: 26\n",
      "Tiempo de entrenamiento: 184.9 segundos\n",
      "Accuracy final (entrenamiento): 0.5707\n",
      "Accuracy final (validación): 0.5116\n"
     ]
    }
   ],
   "source": [
    "# Inicializar el entrenador de modelos\n",
    "model_trainer = ModelTrainer(model_dir=MODEL_DIR)\n",
    "\n",
    "# Entrenar el modelo\n",
    "print(\"Iniciando entrenamiento...\")\n",
    "training_results = model_trainer.train_model(\n",
    "    model=model,\n",
    "    X_train=X_train,\n",
    "    y_train=y_train,\n",
    "    X_val=X_val,\n",
    "    y_val=y_val,\n",
    "    epochs=EPOCHS,\n",
    "    batch_size=BATCH_SIZE,\n",
    "    patience=PATIENCE,\n",
    "    model_name=f\"{MODEL_TYPE}_{datetime.now().strftime('%Y%m%d_%H%M%S')}\"\n",
    ")\n",
    "\n",
    "print(f\"\\nEntrenamiento completado:\")\n",
    "print(f\"Épocas entrenadas: {training_results['epochs_trained']}\")\n",
    "print(f\"Tiempo de entrenamiento: {training_results['training_time']:.1f} segundos\")\n",
    "print(f\"Accuracy final (entrenamiento): {training_results['final_train_accuracy']:.4f}\")\n",
    "print(f\"Accuracy final (validación): {training_results['final_val_accuracy']:.4f}\")"
   ]
  },
  {
   "cell_type": "markdown",
   "id": "24905dfc",
   "metadata": {},
   "source": [
    "## 6. Visualización del Entrenamiento"
   ]
  },
  {
   "cell_type": "code",
   "execution_count": 8,
   "id": "d6c99001",
   "metadata": {},
   "outputs": [
    {
     "name": "stdout",
     "output_type": "stream",
     "text": [
      "Gráfico de historial de entrenamiento guardado en: output/MLP_training_history.png\n"
     ]
    },
    {
     "data": {
      "image/png": "[encoded data removed]",
      "text/plain": [
       "<Figure size 1500x500 with 2 Axes>"
      ]
     },
     "metadata": {},
     "output_type": "display_data"
    }
   ],
   "source": [
    "# Visualizar el historial de entrenamiento\n",
    "Visualizer.plot_training_history(\n",
    "    history=training_results['history'],\n",
    "    model_name=MODEL_TYPE,\n",
    "    save_path=os.path.join(OUTPUT_DIR, f\"{MODEL_TYPE}_training_history.png\")\n",
    ")"
   ]
  },
  {
   "cell_type": "markdown",
   "id": "e4484364",
   "metadata": {},
   "source": [
    "## 7. Evaluación del Modelo"
   ]
  },
  {
   "cell_type": "code",
   "execution_count": 9,
   "id": "dc3f6730",
   "metadata": {},
   "outputs": [
    {
     "name": "stdout",
     "output_type": "stream",
     "text": [
      "Evaluando modelo en datos de prueba...\n"
     ]
    },
    {
     "name": "stderr",
     "output_type": "stream",
     "text": [
      "2025-09-28 17:00:53.097513: I external/local_xla/xla/service/gpu/autotuning/dot_search_space.cc:208] All configs were filtered out because none of them sufficiently match the hints. Maybe the hints set does not contain a good representative set of valid configs? Working around this by using the full hints set instead.\n",
      "2025-09-28 17:00:53.097535: I external/local_xla/xla/service/gpu/autotuning/dot_search_space.cc:208] All configs were filtered out because none of them sufficiently match the hints. Maybe the hints set does not contain a good representative set of valid configs? Working around this by using the full hints set instead.\n",
      "2025-09-28 17:00:53.578002: I external/local_xla/xla/stream_executor/cuda/subprocess_compilation.cc:346] ptxas warning : Registers are spilled to local memory in function 'gemm_fusion_dot_42', 8 bytes spill stores, 8 bytes spill loads\n",
      "\n",
      "2025-09-28 17:00:53.712885: I external/local_xla/xla/stream_executor/cuda/subprocess_compilation.cc:346] ptxas warning : Registers are spilled to local memory in function 'gemm_fusion_dot_49', 100 bytes spill stores, 100 bytes spill loads\n",
      "\n"
     ]
    },
    {
     "name": "stdout",
     "output_type": "stream",
     "text": [
      "\u001b[1m 95/157\u001b[0m \u001b[32m━━━━━━━━━━━━\u001b[0m\u001b[37m━━━━━━━━\u001b[0m \u001b[1m0s\u001b[0m 534us/step"
     ]
    },
    {
     "name": "stderr",
     "output_type": "stream",
     "text": [
      "2025-09-28 17:00:55.181700: I external/local_xla/xla/stream_executor/cuda/subprocess_compilation.cc:346] ptxas warning : Registers are spilled to local memory in function 'gemm_fusion_dot_42', 8 bytes spill stores, 8 bytes spill loads\n",
      "\n"
     ]
    },
    {
     "name": "stdout",
     "output_type": "stream",
     "text": [
      "\u001b[1m157/157\u001b[0m \u001b[32m━━━━━━━━━━━━━━━━━━━━\u001b[0m\u001b[37m\u001b[0m \u001b[1m3s\u001b[0m 6ms/step\n",
      "Precisión de Prueba: 0.5178\n",
      "Pérdida de Prueba: 1.1049\n",
      "\n",
      "Reporte de Clasificación:\n",
      "              precision    recall  f1-score   support\n",
      "\n",
      "           1       0.65      0.64      0.64      1000\n",
      "           2       0.40      0.44      0.42      1000\n",
      "           3       0.38      0.34      0.36      1000\n",
      "           4       0.50      0.36      0.42      1000\n",
      "           5       0.63      0.80      0.70      1000\n",
      "\n",
      "    accuracy                           0.52      5000\n",
      "   macro avg       0.51      0.52      0.51      5000\n",
      "weighted avg       0.51      0.52      0.51      5000\n",
      "\n",
      "\n",
      "Resultados en conjunto de prueba:\n",
      "Accuracy: 0.5178\n",
      "Loss: 1.1049\n",
      "F1-Score (macro): 0.5096\n",
      "F1-Score (weighted): 0.5096\n"
     ]
    }
   ],
   "source": [
    "# Evaluar el modelo en el conjunto de prueba\n",
    "evaluation_results = evaluate_model(\n",
    "    model=model,\n",
    "    X_test=X_test,\n",
    "    y_test=y_test,\n",
    "    class_names=class_names\n",
    ")\n",
    "\n",
    "# Extraer métricas de evaluación\n",
    "test_accuracy = evaluation_results['test_accuracy']\n",
    "test_loss = evaluation_results['test_loss']\n",
    "classification_rep = evaluation_results['classification_report']\n",
    "y_true = evaluation_results['y_true']\n",
    "y_pred = evaluation_results['y_pred']\n",
    "\n",
    "print(f\"\\nResultados en conjunto de prueba:\")\n",
    "print(f\"Accuracy: {test_accuracy:.4f}\")\n",
    "print(f\"Loss: {test_loss:.4f}\")\n",
    "print(f\"F1-Score (macro): {classification_rep['macro avg']['f1-score']:.4f}\")\n",
    "print(f\"F1-Score (weighted): {classification_rep['weighted avg']['f1-score']:.4f}\")"
   ]
  },
  {
   "cell_type": "markdown",
   "id": "dc34bb6f",
   "metadata": {},
   "source": [
    "## 8. Matriz de Confusión"
   ]
  },
  {
   "cell_type": "code",
   "execution_count": 10,
   "id": "f4183361",
   "metadata": {},
   "outputs": [
    {
     "name": "stdout",
     "output_type": "stream",
     "text": [
      "Matriz de confusión guardada en: output/MLP_confusion_matrix.png\n"
     ]
    },
    {
     "data": {
      "image/png": "[encoded data removed]",
      "text/plain": [
       "<Figure size 800x600 with 2 Axes>"
      ]
     },
     "metadata": {},
     "output_type": "display_data"
    }
   ],
   "source": [
    "# Visualizar matriz de confusión\n",
    "Visualizer.plot_confusion_matrix(\n",
    "    y_true=y_true,\n",
    "    y_pred=y_pred,\n",
    "    class_names=class_names,\n",
    "    model_name=MODEL_TYPE,\n",
    "    save_path=os.path.join(OUTPUT_DIR, f\"{MODEL_TYPE}_confusion_matrix.png\")\n",
    ")"
   ]
  },
  {
   "cell_type": "markdown",
   "id": "20bae31f",
   "metadata": {},
   "source": [
    "## 9. Guardado de Resultados del Experimento"
   ]
  },
  {
   "cell_type": "code",
   "execution_count": 11,
   "id": "625c28f1",
   "metadata": {},
   "outputs": [
    {
     "name": "stdout",
     "output_type": "stream",
     "text": [
      "Experiment 5 results saved to output/experiment_history.json\n",
      "\n",
      "Experimento #5 guardado exitosamente.\n",
      "Idioma utilizado: en\n",
      "Modelo guardado en: models/MLP_20250928_165747.h5\n",
      "Resultados guardados en: output/experiment_history.json\n"
     ]
    }
   ],
   "source": [
    "# Preparar datos del experimento para guardar\n",
    "experiment_data = {\n",
    "    'experiment_name': EXPERIMENT_NAME,\n",
    "    'configuration': {\n",
    "        'model_type': MODEL_TYPE,\n",
    "        'text_column': TEXT_COLUMN,\n",
    "        'target_column': TARGET_COLUMN,\n",
    "        'language_filter': FILTER_LANGUAGE,  # ← Nueva información de idioma\n",
    "        'max_words': MAX_WORDS,\n",
    "        'max_length': MAX_LENGTH,\n",
    "        'embedding_dim': EMBEDDING_DIM,\n",
    "        'hidden_layers': HIDDEN_LAYERS,\n",
    "        'activation': ACTIVATION,\n",
    "        'output_activation': OUTPUT_ACTIVATION,\n",
    "        'dropout_rate': DROPOUT_RATE,\n",
    "        'epochs': EPOCHS,\n",
    "        'batch_size': BATCH_SIZE,\n",
    "        'learning_rate': LEARNING_RATE,\n",
    "        'patience': PATIENCE,\n",
    "        'optimizer': OPTIMIZER,\n",
    "        'loss_function': LOSS_FUNCTION,\n",
    "        'random_seed': RANDOM_SEED,\n",
    "        'total_parameters': total_params,\n",
    "        'gpu_used': gpu_info['gpu_available']\n",
    "    },\n",
    "    'dataset_info': {\n",
    "        'train_samples': len(train_df),\n",
    "        'val_samples': len(val_df),\n",
    "        'test_samples': len(test_df),\n",
    "        'num_classes': num_classes,\n",
    "        'vocab_size': vocab_size,\n",
    "        'class_distribution': class_distribution.to_dict(),\n",
    "        'language_used': FILTER_LANGUAGE if FILTER_LANGUAGE else \"multilingual\"  # ← Nueva información\n",
    "    },\n",
    "    'training_results': training_results,\n",
    "    'evaluation_metrics': {\n",
    "        'test_accuracy': test_accuracy,\n",
    "        'test_loss': test_loss,\n",
    "        'f1_macro': classification_rep['macro avg']['f1-score'],\n",
    "        'f1_weighted': classification_rep['weighted avg']['f1-score'],\n",
    "        'precision_macro': classification_rep['macro avg']['precision'],\n",
    "        'recall_macro': classification_rep['macro avg']['recall'],\n",
    "        'classification_report': classification_rep\n",
    "    },\n",
    "    'gpu_info': gpu_info\n",
    "}\n",
    "\n",
    "# Guardar resultados del experimento\n",
    "results_manager = ResultsManager(output_dir=OUTPUT_DIR)\n",
    "experiment_id = results_manager.save_experiment_results(experiment_data)\n",
    "\n",
    "print(f\"\\nExperimento #{experiment_id} guardado exitosamente.\")\n",
    "print(f\"Idioma utilizado: {FILTER_LANGUAGE if FILTER_LANGUAGE else 'Multiidioma'}\")\n",
    "print(f\"Modelo guardado en: {training_results['model_path']}\")\n",
    "print(f\"Resultados guardados en: {OUTPUT_DIR}/experiment_history.json\")"
   ]
  },
  {
   "cell_type": "markdown",
   "id": "70cc54a1",
   "metadata": {},
   "source": [
    "## 10. Resumen del Experimento"
   ]
  },
  {
   "cell_type": "code",
   "execution_count": 12,
   "id": "7b353d31",
   "metadata": {},
   "outputs": [
    {
     "name": "stdout",
     "output_type": "stream",
     "text": [
      "RESUMEN DEL EXPERIMENTO #5\n",
      "============================================================\n",
      "Modelo: MLP\n",
      "Idioma: en\n",
      "Arquitectura: [256, 128, 64]\n",
      "Parámetros totales: 14,349,633\n",
      "\n",
      "Dataset:\n",
      "  - Entrenamiento: 200,000 muestras\n",
      "  - Validaciónddcadasdsadsadsadsadsadsss):,} muestras\n",
      "  - Prueba: 5,000 muestras\n",
      "\n",
      "Entrenamiento:\n",
      "  - Épocas: 26/50\n",
      "  - Tiempo: 184.9s\n",
      "  - Batch size: 512\n",
      "  - Learning rate: 0.001\n",
      "\n",
      "Resultados:\n",
      "  - Test Accuracy: 0.5178\n",
      "  - Test Loss: 1.1049\n",
      "  - F1-Score (macro): 0.5096\n",
      "  - F1-Score (weighted): 0.5096\n",
      "\n",
      "Hardware: GPU\n",
      "\n",
      "Distribución de clases utilizadas:\n",
      "  1⭐: 40,000 (20.0%)\n",
      "  2⭐: 40,000 (20.0%)\n",
      "  3⭐: 40,000 (20.0%)\n",
      "  4⭐: 40,000 (20.0%)\n",
      "  5⭐: 40,000 (20.0%)\n"
     ]
    }
   ],
   "source": [
    "# Mostrar resumen del experimento actual\n",
    "print(f\"RESUMEN DEL EXPERIMENTO #{experiment_id}\")\n",
    "print(\"=\" * 60)\n",
    "print(f\"Modelo: {MODEL_TYPE}\")\n",
    "print(f\"Idioma: {FILTER_LANGUAGE if FILTER_LANGUAGE else 'Multiidioma (todos)'}\")\n",
    "print(f\"Arquitectura: {HIDDEN_LAYERS}\")\n",
    "print(f\"Parámetros totales: {total_params:,}\")\n",
    "print(f\"\")\n",
    "print(f\"Dataset:\")\n",
    "print(f\"  - Entrenamiento: {len(train_df):,} muestras\")\n",
    "print(f\"  - Validaciónddcadasdsadsadsadsadsadsss\"\"):,} muestras\")\n",
    "print(f\"  - Prueba: {len(test_df):,} muestras\")\n",
    "print(f\"\")\n",
    "print(f\"Entrenamiento:\")\n",
    "print(f\"  - Épocas: {training_results['epochs_trained']}/{EPOCHS}\")\n",
    "print(f\"  - Tiempo: {training_results['training_time']:.1f}s\")\n",
    "print(f\"  - Batch size: {BATCH_SIZE}\")\n",
    "print(f\"  - Learning rate: {LEARNING_RATE}\")\n",
    "print(f\"\")\n",
    "print(f\"Resultados:\")\n",
    "print(f\"  - Test Accuracy: {test_accuracy:.4f}\")\n",
    "print(f\"  - Test Loss: {test_loss:.4f}\")\n",
    "print(f\"  - F1-Score (macro): {classification_rep['macro avg']['f1-score']:.4f}\")\n",
    "print(f\"  - F1-Score (weighted): {classification_rep['weighted avg']['f1-score']:.4f}\")\n",
    "print(f\"\")\n",
    "print(f\"Hardware: {'GPU' if gpu_info['gpu_available'] else 'CPU'}\")\n",
    "\n",
    "# Mostrar distribución de clases final\n",
    "print(f\"\")\n",
    "print(f\"Distribución de clases utilizadas:\")\n",
    "for stars, count in class_distribution.items():\n",
    "    percentage = (count / len(train_df)) * 100\n",
    "    print(f\"  {stars}⭐: {count:,} ({percentage:.1f}%)\")"
   ]
  },
  {
   "cell_type": "markdown",
   "id": "49547771",
   "metadata": {},
   "source": [
    "## 11. Historial de Experimentos"
   ]
  },
  {
   "cell_type": "code",
   "execution_count": 13,
   "id": "76d1a148",
   "metadata": {},
   "outputs": [
    {
     "name": "stdout",
     "output_type": "stream",
     "text": [
      "\n",
      "HISTORIAL DE EXPERIMENTOS (5 experimentos)\n",
      "====================================================================================================\n",
      "\n",
      "ID  Modelo       Lang   Precisión  Pérdida    Épocas   Tiempo (s) Muestras  \n",
      "-----------------------------------------------------------------------------------------------\n",
      "1   MultiLayer_  en     0.5104     1.2213     15       74.3       200,000   \n",
      "2   MultiLayer_  en     0.5208     1.1483     20       103.7      200,000   \n",
      "3   MultiLayer_  en     0.5054     1.2300     18       96.1       200,000   \n",
      "4   MLP          en     0.5082     1.1436     27       202.0      200,000   \n",
      "5   MLP          en     0.5116     1.1711     26       184.9      200,000   \n",
      "\n",
      "BEST EXPERIMENTS BY LANGUAGE:\n",
      "--------------------------------------------------\n",
      "en    : ID #2 - Accuracy: 0.5208 (200,000 samples)\n",
      "\n",
      "OVERALL BEST: ID #2 (en) - Accuracy: 0.5208\n"
     ]
    }
   ],
   "source": [
    "# Mostrar historial completo de experimentos\n",
    "results_manager.display_experiment_history()"
   ]
  },
  {
   "cell_type": "markdown",
   "id": "4d97d5c4",
   "metadata": {},
   "source": [
    "## 12. Predicciones de Ejemplo"
   ]
  },
  {
   "cell_type": "code",
   "execution_count": 14,
   "id": "49f96e09",
   "metadata": {},
   "outputs": [
    {
     "name": "stderr",
     "output_type": "stream",
     "text": [
      "2025-09-28 17:00:57.615653: I external/local_xla/xla/stream_executor/cuda/subprocess_compilation.cc:346] ptxas warning : Registers are spilled to local memory in function 'gemm_fusion_dot_42', 8 bytes spill stores, 8 bytes spill loads\n",
      "\n"
     ]
    },
    {
     "name": "stdout",
     "output_type": "stream",
     "text": [
      "\u001b[1m1/1\u001b[0m \u001b[32m━━━━━━━━━━━━━━━━━━━━\u001b[0m\u001b[37m\u001b[0m \u001b[1m1s\u001b[0m 762ms/step\n",
      "PREDICCIONES DE EJEMPLO:\n",
      "============================================================\n",
      "Texto: Este producto es excelente, muy buena calidad y llegó rápido...\n",
      "Predicción: 5 estrellas (confianza: 0.262)\n",
      "----------------------------------------\n",
      "Texto: Terrible producto, no funciona como se describe...\n",
      "Predicción: 1 estrellas (confianza: 0.708)\n",
      "----------------------------------------\n",
      "Texto: El producto está bien, cumple con lo básico...\n",
      "Predicción: 3 estrellas (confianza: 0.277)\n",
      "----------------------------------------\n",
      "Texto: Increíble calidad, superó mis expectativas completamente...\n",
      "Predicción: 3 estrellas (confianza: 0.236)\n",
      "----------------------------------------\n",
      "Texto: No recomiendo este producto, muy mala experiencia...\n",
      "Predicción: 2 estrellas (confianza: 0.225)\n",
      "----------------------------------------\n"
     ]
    }
   ],
   "source": [
    "def predict_sample_texts(model, tokenizer, sample_texts, class_names, max_length):\n",
    "    \"\"\"\n",
    "    Hacer predicciones en textos de ejemplo.\n",
    "    \n",
    "    Args:\n",
    "        model: Modelo entrenado\n",
    "        tokenizer: Tokenizer usado para entrenar\n",
    "        sample_texts: Lista de textos de ejemplo\n",
    "        class_names: Nombres de las clases\n",
    "        max_length: Longitud máxima de secuencia\n",
    "    \"\"\"\n",
    "    # Procesar textos\n",
    "    sequences = tokenizer.texts_to_sequences(sample_texts)\n",
    "    padded = tf.keras.preprocessing.sequence.pad_sequences(\n",
    "        sequences, maxlen=max_length, padding='post', truncating='post'\n",
    "    )\n",
    "    \n",
    "    # Hacer predicciones\n",
    "    predictions = model.predict(padded)\n",
    "    predicted_classes = np.argmax(predictions, axis=1)\n",
    "    \n",
    "    print(\"PREDICCIONES DE EJEMPLO:\")\n",
    "    print(\"=\" * 60)\n",
    "    \n",
    "    for i, text in enumerate(sample_texts):\n",
    "        pred_class = predicted_classes[i]\n",
    "        confidence = predictions[i][pred_class]\n",
    "        \n",
    "        print(f\"Texto: {text[:100]}...\")\n",
    "        print(f\"Predicción: {class_names[pred_class]} estrellas (confianza: {confidence:.3f})\")\n",
    "        print(\"-\" * 40)\n",
    "\n",
    "# Ejemplos de textos para probar\n",
    "sample_texts = [\n",
    "    \"Este producto es excelente, muy buena calidad y llegó rápido\",\n",
    "    \"Terrible producto, no funciona como se describe\", \n",
    "    \"El producto está bien, cumple con lo básico\",\n",
    "    \"Increíble calidad, superó mis expectativas completamente\",\n",
    "    \"No recomiendo este producto, muy mala experiencia\"\n",
    "]\n",
    "\n",
    "# Hacer predicciones en ejemplos\n",
    "predict_sample_texts(\n",
    "    model=model,\n",
    "    tokenizer=data_loader.tokenizer,\n",
    "    sample_texts=sample_texts,\n",
    "    class_names=class_names,\n",
    "    max_length=MAX_LENGTH\n",
    ")"
   ]
  },
  {
   "cell_type": "markdown",
   "id": "75f358e6",
   "metadata": {},
   "source": [
    "## 13. Análisis de Errores"
   ]
  },
  {
   "cell_type": "code",
   "execution_count": 15,
   "id": "f9278c77",
   "metadata": {},
   "outputs": [
    {
     "name": "stdout",
     "output_type": "stream",
     "text": [
      "ANÁLISIS DE ERRORES (2411 errores total)\n",
      "============================================================\n",
      "Error #1:\n",
      "Texto: Similar to Neutrogena and less expensively...\n",
      "Etiqueta real: 4 estrellas\n",
      "Predicción: 2 estrellas\n",
      "----------------------------------------\n",
      "Error #2:\n",
      "Texto: The stories are very well-written and very scary....\n",
      "Etiqueta real: 4 estrellas\n",
      "Predicción: 5 estrellas\n",
      "----------------------------------------\n",
      "Error #3:\n",
      "Texto: Exactly as described. Is not a generic mount. Made for specific camera only....\n",
      "Etiqueta real: 5 estrellas\n",
      "Predicción: 4 estrellas\n",
      "----------------------------------------\n",
      "Error #4:\n",
      "Texto: I love this water bottle. It's very soft to touch, not like the hard plastic from your typical water bottle. It has a little strainer cap under the li...\n",
      "Etiqueta real: 5 estrellas\n",
      "Predicción: 4 estrellas\n",
      "----------------------------------------\n",
      "Error #5:\n",
      "Texto: This bulb is more of a turquoise color than blue. The neighbors made fun of it. :(...\n",
      "Etiqueta real: 2 estrellas\n",
      "Predicción: 4 estrellas\n",
      "----------------------------------------\n"
     ]
    }
   ],
   "source": [
    "# Analizar algunos errores del modelo\n",
    "def analyze_errors(X_test, y_test, y_pred, test_df, text_column, target_column, n_examples=5):\n",
    "    \"\"\"\n",
    "    Analizar ejemplos donde el modelo se equivocó.\n",
    "    \"\"\"\n",
    "    # Encontrar índices donde el modelo se equivocó\n",
    "    y_test_labels = np.argmax(y_test, axis=1)\n",
    "    error_indices = np.where(y_test_labels != y_pred)[0]\n",
    "    \n",
    "    if len(error_indices) == 0:\n",
    "        print(\"¡Perfecto! El modelo no cometió errores en el conjunto de prueba.\")\n",
    "        return\n",
    "    \n",
    "    print(f\"ANÁLISIS DE ERRORES ({len(error_indices)} errores total)\")\n",
    "    print(\"=\" * 60)\n",
    "    \n",
    "    # Mostrar algunos ejemplos de errores\n",
    "    sample_errors = np.random.choice(error_indices, \n",
    "                                   min(n_examples, len(error_indices)), \n",
    "                                   replace=False)\n",
    "    \n",
    "    for i, idx in enumerate(sample_errors):\n",
    "        true_label = y_test_labels[idx]\n",
    "        pred_label = y_pred[idx]\n",
    "        text = test_df.iloc[idx][text_column]\n",
    "        \n",
    "        print(f\"Error #{i+1}:\")\n",
    "        print(f\"Texto: {text[:150]}...\")\n",
    "        print(f\"Etiqueta real: {true_label + 1} estrellas\")\n",
    "        print(f\"Predicción: {pred_label + 1} estrellas\")\n",
    "        print(\"-\" * 40)\n",
    "\n",
    "# Realizar análisis de errores\n",
    "analyze_errors(X_test, y_test, y_pred, test_df, TEXT_COLUMN, TARGET_COLUMN)"
   ]
  },
  {
   "cell_type": "markdown",
   "id": "0f120d4e",
   "metadata": {},
   "source": [
    "## 14. Conclusiones y Próximos Pasos\n",
    "\n",
    "### Resultados obtenidos:\n",
    "- **Modelo implementado:** Perceptrón Multicapa (MLP) para clasificación de sentimientos\n",
    "- **Arquitectura:** Embedding + GlobalAveragePooling + Capas densas + Dropout\n",
    "- **Dataset:** Reviews de Amazon con clasificación de 1-5 estrellas\n",
    "- **Métricas principales:** Accuracy, F1-Score, Precision, Recall\n",
    "\n",
    "### Experimentos sugeridos:\n",
    "1. **Ajuste de hiperparámetros:**\n",
    "   - Probar diferentes dimensiones de embedding (50, 100, 200, 300)\n",
    "   - Experimentar con diferentes arquitecturas de capas ocultas\n",
    "   - Ajustar tasas de dropout y learning rate\n",
    "\n",
    "2. **Mejoras del modelo:**\n",
    "   - Implementar técnicas de regularización adicionales\n",
    "   - Probar diferentes optimizadores (SGD, RMSprop, AdaGrad)\n",
    "   - Experimentar con funciones de activación alternativas\n",
    "\n",
    "3. **Preprocesamiento:**\n",
    "   - Ajustar el tamaño del vocabulario\n",
    "   - Experimentar con diferentes longitudes de secuencia\n",
    "   - Implementar técnicas de limpieza de texto más sofisticadas\n",
    "\n",
    "### Archivos generados:\n",
    "- `models/`: Modelos entrenados guardados\n",
    "- `output/experiment_history.json`: Historial completo de experimentos\n",
    "- `output/`: Gráficos de entrenamiento y matrices de confusión\n",
    "\n",
    "### Para la siguiente entrega:\n",
    "- Reutilizar las funciones del archivo `helper.py`\n",
    "- Comparar resultados con otras arquitecturas (RNN, CNN)\n",
    "- Implementar técnicas de ensemble o voting\n",
    "- Realizar análisis más profundo de los errores del modelo"
   ]
  }
 ],
 "metadata": {
  "kernelspec": {
   "display_name": "py310ia",
   "language": "python",
   "name": "python3"
  },
  "language_info": {
   "codemirror_mode": {
    "name": "ipython",
    "version": 3
   },
   "file_extension": ".py",
   "mimetype": "text/x-python",
   "name": "python",
   "nbconvert_exporter": "python",
   "pygments_lexer": "ipython3",
   "version": "3.10.18"
  }
 },
 "nbformat": 4,
 "nbformat_minor": 5
}
